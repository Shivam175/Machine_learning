{
 "cells": [
  {
   "cell_type": "code",
   "execution_count": 2,
   "metadata": {},
   "outputs": [],
   "source": [
    "import numpy as np\n",
    "import pandas as pd\n",
    "import matplotlib.pyplot as plt\n",
    "%matplotlib inline\n",
    "from pprint import pprint\n",
    "plt.style.use('ggplot')\n"
   ]
  },
  {
   "cell_type": "code",
   "execution_count": 3,
   "metadata": {},
   "outputs": [
    {
     "data": {
      "text/html": [
       "<div>\n",
       "<style scoped>\n",
       "    .dataframe tbody tr th:only-of-type {\n",
       "        vertical-align: middle;\n",
       "    }\n",
       "\n",
       "    .dataframe tbody tr th {\n",
       "        vertical-align: top;\n",
       "    }\n",
       "\n",
       "    .dataframe thead th {\n",
       "        text-align: right;\n",
       "    }\n",
       "</style>\n",
       "<table border=\"1\" class=\"dataframe\">\n",
       "  <thead>\n",
       "    <tr style=\"text-align: right;\">\n",
       "      <th></th>\n",
       "      <th>Id</th>\n",
       "      <th>MSSubClass</th>\n",
       "      <th>MSZoning</th>\n",
       "      <th>LotFrontage</th>\n",
       "      <th>LotArea</th>\n",
       "      <th>Street</th>\n",
       "      <th>Alley</th>\n",
       "      <th>LotShape</th>\n",
       "      <th>LandContour</th>\n",
       "      <th>Utilities</th>\n",
       "      <th>...</th>\n",
       "      <th>SalePrice</th>\n",
       "      <th>dwelling_class</th>\n",
       "      <th>GrgeCarClass</th>\n",
       "      <th>Neighbor_class</th>\n",
       "      <th>RoofMatl_class</th>\n",
       "      <th>RoofStyl_class</th>\n",
       "      <th>Foundatn_class</th>\n",
       "      <th>Ultima</th>\n",
       "      <th>MntHeatng</th>\n",
       "      <th>Cond_Saletype</th>\n",
       "    </tr>\n",
       "  </thead>\n",
       "  <tbody>\n",
       "    <tr>\n",
       "      <th>0</th>\n",
       "      <td>1</td>\n",
       "      <td>60</td>\n",
       "      <td>RL</td>\n",
       "      <td>65.0</td>\n",
       "      <td>8450</td>\n",
       "      <td>Pave</td>\n",
       "      <td>NaN</td>\n",
       "      <td>Reg</td>\n",
       "      <td>Lvl</td>\n",
       "      <td>AllPub</td>\n",
       "      <td>...</td>\n",
       "      <td>208500</td>\n",
       "      <td>0</td>\n",
       "      <td>0</td>\n",
       "      <td>1</td>\n",
       "      <td>b</td>\n",
       "      <td>B</td>\n",
       "      <td>Y</td>\n",
       "      <td>01bB</td>\n",
       "      <td>2GasA</td>\n",
       "      <td>5Normal</td>\n",
       "    </tr>\n",
       "    <tr>\n",
       "      <th>1</th>\n",
       "      <td>2</td>\n",
       "      <td>20</td>\n",
       "      <td>RL</td>\n",
       "      <td>80.0</td>\n",
       "      <td>9600</td>\n",
       "      <td>Pave</td>\n",
       "      <td>NaN</td>\n",
       "      <td>Reg</td>\n",
       "      <td>Lvl</td>\n",
       "      <td>AllPub</td>\n",
       "      <td>...</td>\n",
       "      <td>181500</td>\n",
       "      <td>0</td>\n",
       "      <td>0</td>\n",
       "      <td>1</td>\n",
       "      <td>b</td>\n",
       "      <td>B</td>\n",
       "      <td>Z</td>\n",
       "      <td>01bB</td>\n",
       "      <td>5GasA</td>\n",
       "      <td>8Normal</td>\n",
       "    </tr>\n",
       "    <tr>\n",
       "      <th>2</th>\n",
       "      <td>3</td>\n",
       "      <td>60</td>\n",
       "      <td>RL</td>\n",
       "      <td>68.0</td>\n",
       "      <td>11250</td>\n",
       "      <td>Pave</td>\n",
       "      <td>NaN</td>\n",
       "      <td>IR1</td>\n",
       "      <td>Lvl</td>\n",
       "      <td>AllPub</td>\n",
       "      <td>...</td>\n",
       "      <td>223500</td>\n",
       "      <td>0</td>\n",
       "      <td>0</td>\n",
       "      <td>1</td>\n",
       "      <td>b</td>\n",
       "      <td>B</td>\n",
       "      <td>Y</td>\n",
       "      <td>01bB</td>\n",
       "      <td>9GasA</td>\n",
       "      <td>5Normal</td>\n",
       "    </tr>\n",
       "    <tr>\n",
       "      <th>3</th>\n",
       "      <td>4</td>\n",
       "      <td>70</td>\n",
       "      <td>RL</td>\n",
       "      <td>60.0</td>\n",
       "      <td>9550</td>\n",
       "      <td>Pave</td>\n",
       "      <td>NaN</td>\n",
       "      <td>IR1</td>\n",
       "      <td>Lvl</td>\n",
       "      <td>AllPub</td>\n",
       "      <td>...</td>\n",
       "      <td>140000</td>\n",
       "      <td>0</td>\n",
       "      <td>1</td>\n",
       "      <td>1</td>\n",
       "      <td>b</td>\n",
       "      <td>B</td>\n",
       "      <td>X</td>\n",
       "      <td>11bB</td>\n",
       "      <td>2GasA</td>\n",
       "      <td>5Abnorml</td>\n",
       "    </tr>\n",
       "    <tr>\n",
       "      <th>4</th>\n",
       "      <td>5</td>\n",
       "      <td>60</td>\n",
       "      <td>RL</td>\n",
       "      <td>84.0</td>\n",
       "      <td>14260</td>\n",
       "      <td>Pave</td>\n",
       "      <td>NaN</td>\n",
       "      <td>IR1</td>\n",
       "      <td>Lvl</td>\n",
       "      <td>AllPub</td>\n",
       "      <td>...</td>\n",
       "      <td>250000</td>\n",
       "      <td>0</td>\n",
       "      <td>1</td>\n",
       "      <td>0</td>\n",
       "      <td>b</td>\n",
       "      <td>B</td>\n",
       "      <td>Y</td>\n",
       "      <td>10bB</td>\n",
       "      <td>12GasA</td>\n",
       "      <td>5Normal</td>\n",
       "    </tr>\n",
       "  </tbody>\n",
       "</table>\n",
       "<p>5 rows × 90 columns</p>\n",
       "</div>"
      ],
      "text/plain": [
       "   Id  MSSubClass MSZoning  LotFrontage  LotArea Street Alley LotShape  \\\n",
       "0   1          60       RL         65.0     8450   Pave   NaN      Reg   \n",
       "1   2          20       RL         80.0     9600   Pave   NaN      Reg   \n",
       "2   3          60       RL         68.0    11250   Pave   NaN      IR1   \n",
       "3   4          70       RL         60.0     9550   Pave   NaN      IR1   \n",
       "4   5          60       RL         84.0    14260   Pave   NaN      IR1   \n",
       "\n",
       "  LandContour Utilities      ...       SalePrice dwelling_class GrgeCarClass  \\\n",
       "0         Lvl    AllPub      ...          208500              0            0   \n",
       "1         Lvl    AllPub      ...          181500              0            0   \n",
       "2         Lvl    AllPub      ...          223500              0            0   \n",
       "3         Lvl    AllPub      ...          140000              0            1   \n",
       "4         Lvl    AllPub      ...          250000              0            1   \n",
       "\n",
       "  Neighbor_class RoofMatl_class RoofStyl_class Foundatn_class  Ultima  \\\n",
       "0              1              b              B              Y    01bB   \n",
       "1              1              b              B              Z    01bB   \n",
       "2              1              b              B              Y    01bB   \n",
       "3              1              b              B              X    11bB   \n",
       "4              0              b              B              Y    10bB   \n",
       "\n",
       "   MntHeatng  Cond_Saletype  \n",
       "0      2GasA        5Normal  \n",
       "1      5GasA        8Normal  \n",
       "2      9GasA        5Normal  \n",
       "3      2GasA       5Abnorml  \n",
       "4     12GasA        5Normal  \n",
       "\n",
       "[5 rows x 90 columns]"
      ]
     },
     "execution_count": 3,
     "metadata": {},
     "output_type": "execute_result"
    }
   ],
   "source": [
    "df_train=pd.read_csv('./Kagg_HouseEDA_train2.csv')\n",
    "df_train.head()"
   ]
  },
  {
   "cell_type": "code",
   "execution_count": 3,
   "metadata": {},
   "outputs": [
    {
     "name": "stdout",
     "output_type": "stream",
     "text": [
      "<class 'pandas.core.frame.DataFrame'>\n",
      "RangeIndex: 1315 entries, 0 to 1314\n",
      "Data columns (total 90 columns):\n",
      "Id                1315 non-null int64\n",
      "MSSubClass        1315 non-null int64\n",
      "MSZoning          1315 non-null object\n",
      "LotFrontage       1082 non-null float64\n",
      "LotArea           1315 non-null int64\n",
      "Street            1315 non-null object\n",
      "Alley             77 non-null object\n",
      "LotShape          1315 non-null object\n",
      "LandContour       1315 non-null object\n",
      "Utilities         1315 non-null object\n",
      "LotConfig         1315 non-null object\n",
      "LandSlope         1315 non-null object\n",
      "Neighborhood      1315 non-null object\n",
      "Condition1        1315 non-null object\n",
      "Condition2        1315 non-null object\n",
      "BldgType          1315 non-null object\n",
      "HouseStyle        1315 non-null object\n",
      "OverallQual       1315 non-null int64\n",
      "OverallCond       1315 non-null int64\n",
      "YearBuilt         1315 non-null int64\n",
      "YearRemodAdd      1315 non-null int64\n",
      "RoofStyle         1315 non-null object\n",
      "RoofMatl          1315 non-null object\n",
      "Exterior1st       1315 non-null object\n",
      "Exterior2nd       1315 non-null object\n",
      "MasVnrType        1307 non-null object\n",
      "MasVnrArea        1307 non-null float64\n",
      "ExterQual         1315 non-null object\n",
      "ExterCond         1315 non-null object\n",
      "Foundation        1315 non-null object\n",
      "BsmtQual          1280 non-null object\n",
      "BsmtCond          1280 non-null object\n",
      "BsmtExposure      1279 non-null object\n",
      "BsmtFinType1      1280 non-null object\n",
      "BsmtFinSF1        1315 non-null int64\n",
      "BsmtFinType2      1279 non-null object\n",
      "BsmtFinSF2        1315 non-null int64\n",
      "BsmtUnfSF         1315 non-null int64\n",
      "TotalBsmtSF       1315 non-null int64\n",
      "Heating           1315 non-null object\n",
      "HeatingQC         1315 non-null object\n",
      "CentralAir        1315 non-null object\n",
      "Electrical        1315 non-null object\n",
      "1stFlrSF          1315 non-null int64\n",
      "2ndFlrSF          1315 non-null int64\n",
      "LowQualFinSF      1315 non-null int64\n",
      "GrLivArea         1315 non-null int64\n",
      "BsmtFullBath      1315 non-null int64\n",
      "BsmtHalfBath      1315 non-null int64\n",
      "FullBath          1315 non-null int64\n",
      "HalfBath          1315 non-null int64\n",
      "BedroomAbvGr      1315 non-null int64\n",
      "KitchenAbvGr      1315 non-null int64\n",
      "KitchenQual       1315 non-null object\n",
      "TotRmsAbvGrd      1315 non-null int64\n",
      "Functional        1315 non-null object\n",
      "Fireplaces        1315 non-null int64\n",
      "FireplaceQu       691 non-null object\n",
      "GarageType        1243 non-null object\n",
      "GarageYrBlt       1243 non-null float64\n",
      "GarageFinish      1243 non-null object\n",
      "GarageCars        1315 non-null int64\n",
      "GarageArea        1315 non-null int64\n",
      "GarageQual        1243 non-null object\n",
      "GarageCond        1243 non-null object\n",
      "PavedDrive        1315 non-null object\n",
      "WoodDeckSF        1315 non-null int64\n",
      "OpenPorchSF       1315 non-null int64\n",
      "EnclosedPorch     1315 non-null int64\n",
      "3SsnPorch         1315 non-null int64\n",
      "ScreenPorch       1315 non-null int64\n",
      "PoolArea          1315 non-null int64\n",
      "PoolQC            5 non-null object\n",
      "Fence             252 non-null object\n",
      "MiscFeature       51 non-null object\n",
      "MiscVal           1315 non-null int64\n",
      "MoSold            1315 non-null int64\n",
      "YrSold            1315 non-null int64\n",
      "SaleType          1315 non-null object\n",
      "SaleCondition     1315 non-null object\n",
      "SalePrice         1315 non-null int64\n",
      "dwelling_class    1315 non-null int64\n",
      "GrgeCarClass      1315 non-null int64\n",
      "Neighbor_class    1315 non-null int64\n",
      "RoofMatl_class    1315 non-null object\n",
      "RoofStyl_class    1315 non-null object\n",
      "Foundatn_class    1315 non-null object\n",
      "Ultima            1315 non-null object\n",
      "MntHeatng         1315 non-null object\n",
      "Cond_Saletype     1315 non-null object\n",
      "dtypes: float64(3), int64(38), object(49)\n",
      "memory usage: 924.7+ KB\n"
     ]
    }
   ],
   "source": [
    "df_train.info()"
   ]
  },
  {
   "cell_type": "code",
   "execution_count": 4,
   "metadata": {},
   "outputs": [],
   "source": [
    "q1=df_train['MasVnrType'].values"
   ]
  },
  {
   "cell_type": "code",
   "execution_count": 5,
   "metadata": {},
   "outputs": [
    {
     "data": {
      "text/plain": [
       "(1315, 1)"
      ]
     },
     "execution_count": 5,
     "metadata": {},
     "output_type": "execute_result"
    }
   ],
   "source": [
    "#df_train['LotFrontage'].unique()\n",
    "q2=q1.reshape(-1,1)\n",
    "q2.shape\n"
   ]
  },
  {
   "cell_type": "code",
   "execution_count": 62,
   "metadata": {},
   "outputs": [
    {
     "data": {
      "text/html": [
       "<div>\n",
       "<style scoped>\n",
       "    .dataframe tbody tr th:only-of-type {\n",
       "        vertical-align: middle;\n",
       "    }\n",
       "\n",
       "    .dataframe tbody tr th {\n",
       "        vertical-align: top;\n",
       "    }\n",
       "\n",
       "    .dataframe thead th {\n",
       "        text-align: right;\n",
       "    }\n",
       "</style>\n",
       "<table border=\"1\" class=\"dataframe\">\n",
       "  <thead>\n",
       "    <tr style=\"text-align: right;\">\n",
       "      <th></th>\n",
       "      <th>Id</th>\n",
       "      <th>MSSubClass</th>\n",
       "      <th>MSZoning</th>\n",
       "      <th>LotFrontage</th>\n",
       "      <th>LotArea</th>\n",
       "      <th>Street</th>\n",
       "      <th>Alley</th>\n",
       "      <th>LotShape</th>\n",
       "      <th>LandContour</th>\n",
       "      <th>Utilities</th>\n",
       "      <th>...</th>\n",
       "      <th>ScreenPorch</th>\n",
       "      <th>PoolArea</th>\n",
       "      <th>PoolQC</th>\n",
       "      <th>Fence</th>\n",
       "      <th>MiscFeature</th>\n",
       "      <th>MiscVal</th>\n",
       "      <th>MoSold</th>\n",
       "      <th>YrSold</th>\n",
       "      <th>SaleType</th>\n",
       "      <th>SaleCondition</th>\n",
       "    </tr>\n",
       "  </thead>\n",
       "  <tbody>\n",
       "    <tr>\n",
       "      <th>0</th>\n",
       "      <td>1461</td>\n",
       "      <td>20</td>\n",
       "      <td>RH</td>\n",
       "      <td>80.0</td>\n",
       "      <td>11622</td>\n",
       "      <td>Pave</td>\n",
       "      <td>NaN</td>\n",
       "      <td>Reg</td>\n",
       "      <td>Lvl</td>\n",
       "      <td>AllPub</td>\n",
       "      <td>...</td>\n",
       "      <td>120</td>\n",
       "      <td>0</td>\n",
       "      <td>NaN</td>\n",
       "      <td>MnPrv</td>\n",
       "      <td>NaN</td>\n",
       "      <td>0</td>\n",
       "      <td>6</td>\n",
       "      <td>2010</td>\n",
       "      <td>WD</td>\n",
       "      <td>Normal</td>\n",
       "    </tr>\n",
       "    <tr>\n",
       "      <th>1</th>\n",
       "      <td>1462</td>\n",
       "      <td>20</td>\n",
       "      <td>RL</td>\n",
       "      <td>81.0</td>\n",
       "      <td>14267</td>\n",
       "      <td>Pave</td>\n",
       "      <td>NaN</td>\n",
       "      <td>IR1</td>\n",
       "      <td>Lvl</td>\n",
       "      <td>AllPub</td>\n",
       "      <td>...</td>\n",
       "      <td>0</td>\n",
       "      <td>0</td>\n",
       "      <td>NaN</td>\n",
       "      <td>NaN</td>\n",
       "      <td>Gar2</td>\n",
       "      <td>12500</td>\n",
       "      <td>6</td>\n",
       "      <td>2010</td>\n",
       "      <td>WD</td>\n",
       "      <td>Normal</td>\n",
       "    </tr>\n",
       "    <tr>\n",
       "      <th>2</th>\n",
       "      <td>1463</td>\n",
       "      <td>60</td>\n",
       "      <td>RL</td>\n",
       "      <td>74.0</td>\n",
       "      <td>13830</td>\n",
       "      <td>Pave</td>\n",
       "      <td>NaN</td>\n",
       "      <td>IR1</td>\n",
       "      <td>Lvl</td>\n",
       "      <td>AllPub</td>\n",
       "      <td>...</td>\n",
       "      <td>0</td>\n",
       "      <td>0</td>\n",
       "      <td>NaN</td>\n",
       "      <td>MnPrv</td>\n",
       "      <td>NaN</td>\n",
       "      <td>0</td>\n",
       "      <td>3</td>\n",
       "      <td>2010</td>\n",
       "      <td>WD</td>\n",
       "      <td>Normal</td>\n",
       "    </tr>\n",
       "    <tr>\n",
       "      <th>3</th>\n",
       "      <td>1464</td>\n",
       "      <td>60</td>\n",
       "      <td>RL</td>\n",
       "      <td>78.0</td>\n",
       "      <td>9978</td>\n",
       "      <td>Pave</td>\n",
       "      <td>NaN</td>\n",
       "      <td>IR1</td>\n",
       "      <td>Lvl</td>\n",
       "      <td>AllPub</td>\n",
       "      <td>...</td>\n",
       "      <td>0</td>\n",
       "      <td>0</td>\n",
       "      <td>NaN</td>\n",
       "      <td>NaN</td>\n",
       "      <td>NaN</td>\n",
       "      <td>0</td>\n",
       "      <td>6</td>\n",
       "      <td>2010</td>\n",
       "      <td>WD</td>\n",
       "      <td>Normal</td>\n",
       "    </tr>\n",
       "    <tr>\n",
       "      <th>4</th>\n",
       "      <td>1465</td>\n",
       "      <td>120</td>\n",
       "      <td>RL</td>\n",
       "      <td>43.0</td>\n",
       "      <td>5005</td>\n",
       "      <td>Pave</td>\n",
       "      <td>NaN</td>\n",
       "      <td>IR1</td>\n",
       "      <td>HLS</td>\n",
       "      <td>AllPub</td>\n",
       "      <td>...</td>\n",
       "      <td>144</td>\n",
       "      <td>0</td>\n",
       "      <td>NaN</td>\n",
       "      <td>NaN</td>\n",
       "      <td>NaN</td>\n",
       "      <td>0</td>\n",
       "      <td>1</td>\n",
       "      <td>2010</td>\n",
       "      <td>WD</td>\n",
       "      <td>Normal</td>\n",
       "    </tr>\n",
       "  </tbody>\n",
       "</table>\n",
       "<p>5 rows × 80 columns</p>\n",
       "</div>"
      ],
      "text/plain": [
       "     Id  MSSubClass MSZoning  LotFrontage  LotArea Street Alley LotShape  \\\n",
       "0  1461          20       RH         80.0    11622   Pave   NaN      Reg   \n",
       "1  1462          20       RL         81.0    14267   Pave   NaN      IR1   \n",
       "2  1463          60       RL         74.0    13830   Pave   NaN      IR1   \n",
       "3  1464          60       RL         78.0     9978   Pave   NaN      IR1   \n",
       "4  1465         120       RL         43.0     5005   Pave   NaN      IR1   \n",
       "\n",
       "  LandContour Utilities      ...       ScreenPorch PoolArea PoolQC  Fence  \\\n",
       "0         Lvl    AllPub      ...               120        0    NaN  MnPrv   \n",
       "1         Lvl    AllPub      ...                 0        0    NaN    NaN   \n",
       "2         Lvl    AllPub      ...                 0        0    NaN  MnPrv   \n",
       "3         Lvl    AllPub      ...                 0        0    NaN    NaN   \n",
       "4         HLS    AllPub      ...               144        0    NaN    NaN   \n",
       "\n",
       "  MiscFeature MiscVal MoSold  YrSold  SaleType  SaleCondition  \n",
       "0         NaN       0      6    2010        WD         Normal  \n",
       "1        Gar2   12500      6    2010        WD         Normal  \n",
       "2         NaN       0      3    2010        WD         Normal  \n",
       "3         NaN       0      6    2010        WD         Normal  \n",
       "4         NaN       0      1    2010        WD         Normal  \n",
       "\n",
       "[5 rows x 80 columns]"
      ]
     },
     "execution_count": 62,
     "metadata": {},
     "output_type": "execute_result"
    }
   ],
   "source": [
    "df_test=pd.read_csv('../datasets/Housing Prices Kaggle/test (2).csv')\n",
    "df_test.head()"
   ]
  },
  {
   "cell_type": "code",
   "execution_count": 63,
   "metadata": {},
   "outputs": [
    {
     "data": {
      "text/plain": [
       "array(['TA', 'Po', 'Fa', 'Gd', nan], dtype=object)"
      ]
     },
     "execution_count": 63,
     "metadata": {},
     "output_type": "execute_result"
    }
   ],
   "source": [
    "df_test['BsmtCond'].unique()"
   ]
  },
  {
   "cell_type": "code",
   "execution_count": null,
   "metadata": {},
   "outputs": [],
   "source": []
  },
  {
   "cell_type": "code",
   "execution_count": null,
   "metadata": {},
   "outputs": [],
   "source": []
  },
  {
   "cell_type": "code",
   "execution_count": null,
   "metadata": {},
   "outputs": [],
   "source": []
  },
  {
   "cell_type": "code",
   "execution_count": null,
   "metadata": {},
   "outputs": [],
   "source": []
  },
  {
   "cell_type": "code",
   "execution_count": 8,
   "metadata": {},
   "outputs": [],
   "source": [
    "df_train['Alley'].replace(np.nan,'N/A',inplace=True)"
   ]
  },
  {
   "cell_type": "code",
   "execution_count": 9,
   "metadata": {},
   "outputs": [
    {
     "data": {
      "text/plain": [
       "array(['N/A', 'Grvl', 'Pave'], dtype=object)"
      ]
     },
     "execution_count": 9,
     "metadata": {},
     "output_type": "execute_result"
    }
   ],
   "source": [
    "df_train['Alley'].unique()"
   ]
  },
  {
   "cell_type": "code",
   "execution_count": 10,
   "metadata": {},
   "outputs": [
    {
     "ename": "AttributeError",
     "evalue": "'numpy.ndarray' object has no attribute 'most_frequent'",
     "output_type": "error",
     "traceback": [
      "\u001b[1;31m---------------------------------------------------------------------------\u001b[0m",
      "\u001b[1;31mAttributeError\u001b[0m                            Traceback (most recent call last)",
      "\u001b[1;32m<ipython-input-10-07681636a3bb>\u001b[0m in \u001b[0;36m<module>\u001b[1;34m()\u001b[0m\n\u001b[1;32m----> 1\u001b[1;33m \u001b[0mdf_train\u001b[0m\u001b[1;33m[\u001b[0m\u001b[1;34m'MasVnrType'\u001b[0m\u001b[1;33m]\u001b[0m\u001b[1;33m.\u001b[0m\u001b[0mvalues\u001b[0m\u001b[1;33m.\u001b[0m\u001b[0mmost_frequent\u001b[0m\u001b[1;33m\u001b[0m\u001b[0m\n\u001b[0m",
      "\u001b[1;31mAttributeError\u001b[0m: 'numpy.ndarray' object has no attribute 'most_frequent'"
     ]
    }
   ],
   "source": [
    "df_train['MasVnrType'].values.most_frequent"
   ]
  },
  {
   "cell_type": "code",
   "execution_count": 11,
   "metadata": {},
   "outputs": [
    {
     "ename": "TypeError",
     "evalue": "must be str, not int",
     "output_type": "error",
     "traceback": [
      "\u001b[1;31m---------------------------------------------------------------------------\u001b[0m",
      "\u001b[1;31mTypeError\u001b[0m                                 Traceback (most recent call last)",
      "\u001b[1;32m~\\Anaconda3\\lib\\site-packages\\pandas\\core\\nanops.py\u001b[0m in \u001b[0;36mf\u001b[1;34m(values, axis, skipna, **kwds)\u001b[0m\n\u001b[0;32m    127\u001b[0m                 \u001b[1;32melse\u001b[0m\u001b[1;33m:\u001b[0m\u001b[1;33m\u001b[0m\u001b[0m\n\u001b[1;32m--> 128\u001b[1;33m                     \u001b[0mresult\u001b[0m \u001b[1;33m=\u001b[0m \u001b[0malt\u001b[0m\u001b[1;33m(\u001b[0m\u001b[0mvalues\u001b[0m\u001b[1;33m,\u001b[0m \u001b[0maxis\u001b[0m\u001b[1;33m=\u001b[0m\u001b[0maxis\u001b[0m\u001b[1;33m,\u001b[0m \u001b[0mskipna\u001b[0m\u001b[1;33m=\u001b[0m\u001b[0mskipna\u001b[0m\u001b[1;33m,\u001b[0m \u001b[1;33m**\u001b[0m\u001b[0mkwds\u001b[0m\u001b[1;33m)\u001b[0m\u001b[1;33m\u001b[0m\u001b[0m\n\u001b[0m\u001b[0;32m    129\u001b[0m             \u001b[1;32mexcept\u001b[0m \u001b[0mException\u001b[0m\u001b[1;33m:\u001b[0m\u001b[1;33m\u001b[0m\u001b[0m\n",
      "\u001b[1;32m~\\Anaconda3\\lib\\site-packages\\pandas\\core\\nanops.py\u001b[0m in \u001b[0;36mnanmean\u001b[1;34m(values, axis, skipna)\u001b[0m\n\u001b[0;32m    355\u001b[0m     \u001b[0mcount\u001b[0m \u001b[1;33m=\u001b[0m \u001b[0m_get_counts\u001b[0m\u001b[1;33m(\u001b[0m\u001b[0mmask\u001b[0m\u001b[1;33m,\u001b[0m \u001b[0maxis\u001b[0m\u001b[1;33m,\u001b[0m \u001b[0mdtype\u001b[0m\u001b[1;33m=\u001b[0m\u001b[0mdtype_count\u001b[0m\u001b[1;33m)\u001b[0m\u001b[1;33m\u001b[0m\u001b[0m\n\u001b[1;32m--> 356\u001b[1;33m     \u001b[0mthe_sum\u001b[0m \u001b[1;33m=\u001b[0m \u001b[0m_ensure_numeric\u001b[0m\u001b[1;33m(\u001b[0m\u001b[0mvalues\u001b[0m\u001b[1;33m.\u001b[0m\u001b[0msum\u001b[0m\u001b[1;33m(\u001b[0m\u001b[0maxis\u001b[0m\u001b[1;33m,\u001b[0m \u001b[0mdtype\u001b[0m\u001b[1;33m=\u001b[0m\u001b[0mdtype_sum\u001b[0m\u001b[1;33m)\u001b[0m\u001b[1;33m)\u001b[0m\u001b[1;33m\u001b[0m\u001b[0m\n\u001b[0m\u001b[0;32m    357\u001b[0m \u001b[1;33m\u001b[0m\u001b[0m\n",
      "\u001b[1;32m~\\Anaconda3\\lib\\site-packages\\numpy\\core\\_methods.py\u001b[0m in \u001b[0;36m_sum\u001b[1;34m(a, axis, dtype, out, keepdims)\u001b[0m\n\u001b[0;32m     31\u001b[0m \u001b[1;32mdef\u001b[0m \u001b[0m_sum\u001b[0m\u001b[1;33m(\u001b[0m\u001b[0ma\u001b[0m\u001b[1;33m,\u001b[0m \u001b[0maxis\u001b[0m\u001b[1;33m=\u001b[0m\u001b[1;32mNone\u001b[0m\u001b[1;33m,\u001b[0m \u001b[0mdtype\u001b[0m\u001b[1;33m=\u001b[0m\u001b[1;32mNone\u001b[0m\u001b[1;33m,\u001b[0m \u001b[0mout\u001b[0m\u001b[1;33m=\u001b[0m\u001b[1;32mNone\u001b[0m\u001b[1;33m,\u001b[0m \u001b[0mkeepdims\u001b[0m\u001b[1;33m=\u001b[0m\u001b[1;32mFalse\u001b[0m\u001b[1;33m)\u001b[0m\u001b[1;33m:\u001b[0m\u001b[1;33m\u001b[0m\u001b[0m\n\u001b[1;32m---> 32\u001b[1;33m     \u001b[1;32mreturn\u001b[0m \u001b[0mumr_sum\u001b[0m\u001b[1;33m(\u001b[0m\u001b[0ma\u001b[0m\u001b[1;33m,\u001b[0m \u001b[0maxis\u001b[0m\u001b[1;33m,\u001b[0m \u001b[0mdtype\u001b[0m\u001b[1;33m,\u001b[0m \u001b[0mout\u001b[0m\u001b[1;33m,\u001b[0m \u001b[0mkeepdims\u001b[0m\u001b[1;33m)\u001b[0m\u001b[1;33m\u001b[0m\u001b[0m\n\u001b[0m\u001b[0;32m     33\u001b[0m \u001b[1;33m\u001b[0m\u001b[0m\n",
      "\u001b[1;31mTypeError\u001b[0m: must be str, not int",
      "\nDuring handling of the above exception, another exception occurred:\n",
      "\u001b[1;31mTypeError\u001b[0m                                 Traceback (most recent call last)",
      "\u001b[1;32m<ipython-input-11-80a36516670d>\u001b[0m in \u001b[0;36m<module>\u001b[1;34m()\u001b[0m\n\u001b[1;32m----> 1\u001b[1;33m \u001b[0mnp\u001b[0m\u001b[1;33m.\u001b[0m\u001b[0mmean\u001b[0m\u001b[1;33m(\u001b[0m\u001b[0mdf_train\u001b[0m\u001b[1;33m[\u001b[0m\u001b[1;34m'MasVnrType'\u001b[0m\u001b[1;33m]\u001b[0m\u001b[1;33m)\u001b[0m\u001b[1;33m\u001b[0m\u001b[0m\n\u001b[0m",
      "\u001b[1;32m~\\Anaconda3\\lib\\site-packages\\numpy\\core\\fromnumeric.py\u001b[0m in \u001b[0;36mmean\u001b[1;34m(a, axis, dtype, out, keepdims)\u001b[0m\n\u001b[0;32m   2952\u001b[0m             \u001b[1;32mpass\u001b[0m\u001b[1;33m\u001b[0m\u001b[0m\n\u001b[0;32m   2953\u001b[0m         \u001b[1;32melse\u001b[0m\u001b[1;33m:\u001b[0m\u001b[1;33m\u001b[0m\u001b[0m\n\u001b[1;32m-> 2954\u001b[1;33m             \u001b[1;32mreturn\u001b[0m \u001b[0mmean\u001b[0m\u001b[1;33m(\u001b[0m\u001b[0maxis\u001b[0m\u001b[1;33m=\u001b[0m\u001b[0maxis\u001b[0m\u001b[1;33m,\u001b[0m \u001b[0mdtype\u001b[0m\u001b[1;33m=\u001b[0m\u001b[0mdtype\u001b[0m\u001b[1;33m,\u001b[0m \u001b[0mout\u001b[0m\u001b[1;33m=\u001b[0m\u001b[0mout\u001b[0m\u001b[1;33m,\u001b[0m \u001b[1;33m**\u001b[0m\u001b[0mkwargs\u001b[0m\u001b[1;33m)\u001b[0m\u001b[1;33m\u001b[0m\u001b[0m\n\u001b[0m\u001b[0;32m   2955\u001b[0m \u001b[1;33m\u001b[0m\u001b[0m\n\u001b[0;32m   2956\u001b[0m     return _methods._mean(a, axis=axis, dtype=dtype,\n",
      "\u001b[1;32m~\\Anaconda3\\lib\\site-packages\\pandas\\core\\generic.py\u001b[0m in \u001b[0;36mstat_func\u001b[1;34m(self, axis, skipna, level, numeric_only, **kwargs)\u001b[0m\n\u001b[0;32m   7313\u001b[0m                                       skipna=skipna)\n\u001b[0;32m   7314\u001b[0m         return self._reduce(f, name, axis=axis, skipna=skipna,\n\u001b[1;32m-> 7315\u001b[1;33m                             numeric_only=numeric_only)\n\u001b[0m\u001b[0;32m   7316\u001b[0m \u001b[1;33m\u001b[0m\u001b[0m\n\u001b[0;32m   7317\u001b[0m     \u001b[1;32mreturn\u001b[0m \u001b[0mset_function_name\u001b[0m\u001b[1;33m(\u001b[0m\u001b[0mstat_func\u001b[0m\u001b[1;33m,\u001b[0m \u001b[0mname\u001b[0m\u001b[1;33m,\u001b[0m \u001b[0mcls\u001b[0m\u001b[1;33m)\u001b[0m\u001b[1;33m\u001b[0m\u001b[0m\n",
      "\u001b[1;32m~\\Anaconda3\\lib\\site-packages\\pandas\\core\\series.py\u001b[0m in \u001b[0;36m_reduce\u001b[1;34m(self, op, name, axis, skipna, numeric_only, filter_type, **kwds)\u001b[0m\n\u001b[0;32m   2575\u001b[0m                                           'numeric_only.'.format(name))\n\u001b[0;32m   2576\u001b[0m             \u001b[1;32mwith\u001b[0m \u001b[0mnp\u001b[0m\u001b[1;33m.\u001b[0m\u001b[0merrstate\u001b[0m\u001b[1;33m(\u001b[0m\u001b[0mall\u001b[0m\u001b[1;33m=\u001b[0m\u001b[1;34m'ignore'\u001b[0m\u001b[1;33m)\u001b[0m\u001b[1;33m:\u001b[0m\u001b[1;33m\u001b[0m\u001b[0m\n\u001b[1;32m-> 2577\u001b[1;33m                 \u001b[1;32mreturn\u001b[0m \u001b[0mop\u001b[0m\u001b[1;33m(\u001b[0m\u001b[0mdelegate\u001b[0m\u001b[1;33m,\u001b[0m \u001b[0mskipna\u001b[0m\u001b[1;33m=\u001b[0m\u001b[0mskipna\u001b[0m\u001b[1;33m,\u001b[0m \u001b[1;33m**\u001b[0m\u001b[0mkwds\u001b[0m\u001b[1;33m)\u001b[0m\u001b[1;33m\u001b[0m\u001b[0m\n\u001b[0m\u001b[0;32m   2578\u001b[0m \u001b[1;33m\u001b[0m\u001b[0m\n\u001b[0;32m   2579\u001b[0m         return delegate._reduce(op=op, name=name, axis=axis, skipna=skipna,\n",
      "\u001b[1;32m~\\Anaconda3\\lib\\site-packages\\pandas\\core\\nanops.py\u001b[0m in \u001b[0;36m_f\u001b[1;34m(*args, **kwargs)\u001b[0m\n\u001b[0;32m     75\u001b[0m             \u001b[1;32mtry\u001b[0m\u001b[1;33m:\u001b[0m\u001b[1;33m\u001b[0m\u001b[0m\n\u001b[0;32m     76\u001b[0m                 \u001b[1;32mwith\u001b[0m \u001b[0mnp\u001b[0m\u001b[1;33m.\u001b[0m\u001b[0merrstate\u001b[0m\u001b[1;33m(\u001b[0m\u001b[0minvalid\u001b[0m\u001b[1;33m=\u001b[0m\u001b[1;34m'ignore'\u001b[0m\u001b[1;33m)\u001b[0m\u001b[1;33m:\u001b[0m\u001b[1;33m\u001b[0m\u001b[0m\n\u001b[1;32m---> 77\u001b[1;33m                     \u001b[1;32mreturn\u001b[0m \u001b[0mf\u001b[0m\u001b[1;33m(\u001b[0m\u001b[1;33m*\u001b[0m\u001b[0margs\u001b[0m\u001b[1;33m,\u001b[0m \u001b[1;33m**\u001b[0m\u001b[0mkwargs\u001b[0m\u001b[1;33m)\u001b[0m\u001b[1;33m\u001b[0m\u001b[0m\n\u001b[0m\u001b[0;32m     78\u001b[0m             \u001b[1;32mexcept\u001b[0m \u001b[0mValueError\u001b[0m \u001b[1;32mas\u001b[0m \u001b[0me\u001b[0m\u001b[1;33m:\u001b[0m\u001b[1;33m\u001b[0m\u001b[0m\n\u001b[0;32m     79\u001b[0m                 \u001b[1;31m# we want to transform an object array\u001b[0m\u001b[1;33m\u001b[0m\u001b[1;33m\u001b[0m\u001b[0m\n",
      "\u001b[1;32m~\\Anaconda3\\lib\\site-packages\\pandas\\core\\nanops.py\u001b[0m in \u001b[0;36mf\u001b[1;34m(values, axis, skipna, **kwds)\u001b[0m\n\u001b[0;32m    129\u001b[0m             \u001b[1;32mexcept\u001b[0m \u001b[0mException\u001b[0m\u001b[1;33m:\u001b[0m\u001b[1;33m\u001b[0m\u001b[0m\n\u001b[0;32m    130\u001b[0m                 \u001b[1;32mtry\u001b[0m\u001b[1;33m:\u001b[0m\u001b[1;33m\u001b[0m\u001b[0m\n\u001b[1;32m--> 131\u001b[1;33m                     \u001b[0mresult\u001b[0m \u001b[1;33m=\u001b[0m \u001b[0malt\u001b[0m\u001b[1;33m(\u001b[0m\u001b[0mvalues\u001b[0m\u001b[1;33m,\u001b[0m \u001b[0maxis\u001b[0m\u001b[1;33m=\u001b[0m\u001b[0maxis\u001b[0m\u001b[1;33m,\u001b[0m \u001b[0mskipna\u001b[0m\u001b[1;33m=\u001b[0m\u001b[0mskipna\u001b[0m\u001b[1;33m,\u001b[0m \u001b[1;33m**\u001b[0m\u001b[0mkwds\u001b[0m\u001b[1;33m)\u001b[0m\u001b[1;33m\u001b[0m\u001b[0m\n\u001b[0m\u001b[0;32m    132\u001b[0m                 \u001b[1;32mexcept\u001b[0m \u001b[0mValueError\u001b[0m \u001b[1;32mas\u001b[0m \u001b[0me\u001b[0m\u001b[1;33m:\u001b[0m\u001b[1;33m\u001b[0m\u001b[0m\n\u001b[0;32m    133\u001b[0m                     \u001b[1;31m# we want to transform an object array\u001b[0m\u001b[1;33m\u001b[0m\u001b[1;33m\u001b[0m\u001b[0m\n",
      "\u001b[1;32m~\\Anaconda3\\lib\\site-packages\\pandas\\core\\nanops.py\u001b[0m in \u001b[0;36mnanmean\u001b[1;34m(values, axis, skipna)\u001b[0m\n\u001b[0;32m    354\u001b[0m         \u001b[0mdtype_count\u001b[0m \u001b[1;33m=\u001b[0m \u001b[0mdtype\u001b[0m\u001b[1;33m\u001b[0m\u001b[0m\n\u001b[0;32m    355\u001b[0m     \u001b[0mcount\u001b[0m \u001b[1;33m=\u001b[0m \u001b[0m_get_counts\u001b[0m\u001b[1;33m(\u001b[0m\u001b[0mmask\u001b[0m\u001b[1;33m,\u001b[0m \u001b[0maxis\u001b[0m\u001b[1;33m,\u001b[0m \u001b[0mdtype\u001b[0m\u001b[1;33m=\u001b[0m\u001b[0mdtype_count\u001b[0m\u001b[1;33m)\u001b[0m\u001b[1;33m\u001b[0m\u001b[0m\n\u001b[1;32m--> 356\u001b[1;33m     \u001b[0mthe_sum\u001b[0m \u001b[1;33m=\u001b[0m \u001b[0m_ensure_numeric\u001b[0m\u001b[1;33m(\u001b[0m\u001b[0mvalues\u001b[0m\u001b[1;33m.\u001b[0m\u001b[0msum\u001b[0m\u001b[1;33m(\u001b[0m\u001b[0maxis\u001b[0m\u001b[1;33m,\u001b[0m \u001b[0mdtype\u001b[0m\u001b[1;33m=\u001b[0m\u001b[0mdtype_sum\u001b[0m\u001b[1;33m)\u001b[0m\u001b[1;33m)\u001b[0m\u001b[1;33m\u001b[0m\u001b[0m\n\u001b[0m\u001b[0;32m    357\u001b[0m \u001b[1;33m\u001b[0m\u001b[0m\n\u001b[0;32m    358\u001b[0m     \u001b[1;32mif\u001b[0m \u001b[0maxis\u001b[0m \u001b[1;32mis\u001b[0m \u001b[1;32mnot\u001b[0m \u001b[1;32mNone\u001b[0m \u001b[1;32mand\u001b[0m \u001b[0mgetattr\u001b[0m\u001b[1;33m(\u001b[0m\u001b[0mthe_sum\u001b[0m\u001b[1;33m,\u001b[0m \u001b[1;34m'ndim'\u001b[0m\u001b[1;33m,\u001b[0m \u001b[1;32mFalse\u001b[0m\u001b[1;33m)\u001b[0m\u001b[1;33m:\u001b[0m\u001b[1;33m\u001b[0m\u001b[0m\n",
      "\u001b[1;32m~\\Anaconda3\\lib\\site-packages\\numpy\\core\\_methods.py\u001b[0m in \u001b[0;36m_sum\u001b[1;34m(a, axis, dtype, out, keepdims)\u001b[0m\n\u001b[0;32m     30\u001b[0m \u001b[1;33m\u001b[0m\u001b[0m\n\u001b[0;32m     31\u001b[0m \u001b[1;32mdef\u001b[0m \u001b[0m_sum\u001b[0m\u001b[1;33m(\u001b[0m\u001b[0ma\u001b[0m\u001b[1;33m,\u001b[0m \u001b[0maxis\u001b[0m\u001b[1;33m=\u001b[0m\u001b[1;32mNone\u001b[0m\u001b[1;33m,\u001b[0m \u001b[0mdtype\u001b[0m\u001b[1;33m=\u001b[0m\u001b[1;32mNone\u001b[0m\u001b[1;33m,\u001b[0m \u001b[0mout\u001b[0m\u001b[1;33m=\u001b[0m\u001b[1;32mNone\u001b[0m\u001b[1;33m,\u001b[0m \u001b[0mkeepdims\u001b[0m\u001b[1;33m=\u001b[0m\u001b[1;32mFalse\u001b[0m\u001b[1;33m)\u001b[0m\u001b[1;33m:\u001b[0m\u001b[1;33m\u001b[0m\u001b[0m\n\u001b[1;32m---> 32\u001b[1;33m     \u001b[1;32mreturn\u001b[0m \u001b[0mumr_sum\u001b[0m\u001b[1;33m(\u001b[0m\u001b[0ma\u001b[0m\u001b[1;33m,\u001b[0m \u001b[0maxis\u001b[0m\u001b[1;33m,\u001b[0m \u001b[0mdtype\u001b[0m\u001b[1;33m,\u001b[0m \u001b[0mout\u001b[0m\u001b[1;33m,\u001b[0m \u001b[0mkeepdims\u001b[0m\u001b[1;33m)\u001b[0m\u001b[1;33m\u001b[0m\u001b[0m\n\u001b[0m\u001b[0;32m     33\u001b[0m \u001b[1;33m\u001b[0m\u001b[0m\n\u001b[0;32m     34\u001b[0m \u001b[1;32mdef\u001b[0m \u001b[0m_prod\u001b[0m\u001b[1;33m(\u001b[0m\u001b[0ma\u001b[0m\u001b[1;33m,\u001b[0m \u001b[0maxis\u001b[0m\u001b[1;33m=\u001b[0m\u001b[1;32mNone\u001b[0m\u001b[1;33m,\u001b[0m \u001b[0mdtype\u001b[0m\u001b[1;33m=\u001b[0m\u001b[1;32mNone\u001b[0m\u001b[1;33m,\u001b[0m \u001b[0mout\u001b[0m\u001b[1;33m=\u001b[0m\u001b[1;32mNone\u001b[0m\u001b[1;33m,\u001b[0m \u001b[0mkeepdims\u001b[0m\u001b[1;33m=\u001b[0m\u001b[1;32mFalse\u001b[0m\u001b[1;33m)\u001b[0m\u001b[1;33m:\u001b[0m\u001b[1;33m\u001b[0m\u001b[0m\n",
      "\u001b[1;31mTypeError\u001b[0m: must be str, not int"
     ]
    }
   ],
   "source": [
    "np.mean(df_train['MasVnrType'])"
   ]
  },
  {
   "cell_type": "code",
   "execution_count": 12,
   "metadata": {},
   "outputs": [
    {
     "ename": "TypeError",
     "evalue": "ufunc 'isnan' not supported for the input types, and the inputs could not be safely coerced to any supported types according to the casting rule ''safe''",
     "output_type": "error",
     "traceback": [
      "\u001b[1;31m---------------------------------------------------------------------------\u001b[0m",
      "\u001b[1;31mTypeError\u001b[0m                                 Traceback (most recent call last)",
      "\u001b[1;32m<ipython-input-12-12caeb20d0d0>\u001b[0m in \u001b[0;36m<module>\u001b[1;34m()\u001b[0m\n\u001b[1;32m----> 1\u001b[1;33m \u001b[0mnp\u001b[0m\u001b[1;33m.\u001b[0m\u001b[0misnan\u001b[0m\u001b[1;33m(\u001b[0m\u001b[0mdf_train\u001b[0m\u001b[1;33m[\u001b[0m\u001b[1;34m'MasVnrType'\u001b[0m\u001b[1;33m]\u001b[0m\u001b[1;33m)\u001b[0m\u001b[1;33m.\u001b[0m\u001b[0msum\u001b[0m\u001b[1;33m(\u001b[0m\u001b[1;33m)\u001b[0m\u001b[1;33m\u001b[0m\u001b[0m\n\u001b[0m",
      "\u001b[1;31mTypeError\u001b[0m: ufunc 'isnan' not supported for the input types, and the inputs could not be safely coerced to any supported types according to the casting rule ''safe''"
     ]
    }
   ],
   "source": [
    "np.isnan(df_train['MasVnrType']).sum()"
   ]
  },
  {
   "cell_type": "code",
   "execution_count": 13,
   "metadata": {},
   "outputs": [],
   "source": [
    "a1=df_train['MasVnrType'].values\n"
   ]
  },
  {
   "cell_type": "code",
   "execution_count": 14,
   "metadata": {},
   "outputs": [
    {
     "ename": "AttributeError",
     "evalue": "'Series' object has no attribute 'most_frequent'",
     "output_type": "error",
     "traceback": [
      "\u001b[1;31m---------------------------------------------------------------------------\u001b[0m",
      "\u001b[1;31mAttributeError\u001b[0m                            Traceback (most recent call last)",
      "\u001b[1;32m<ipython-input-14-5fb12113e694>\u001b[0m in \u001b[0;36m<module>\u001b[1;34m()\u001b[0m\n\u001b[1;32m----> 1\u001b[1;33m \u001b[0mdf_train\u001b[0m\u001b[1;33m[\u001b[0m\u001b[1;34m'MasVnrType'\u001b[0m\u001b[1;33m]\u001b[0m\u001b[1;33m=\u001b[0m\u001b[0mdf_train\u001b[0m\u001b[1;33m[\u001b[0m\u001b[1;34m'MasVnrType'\u001b[0m\u001b[1;33m]\u001b[0m\u001b[1;33m.\u001b[0m\u001b[0mfillna\u001b[0m\u001b[1;33m(\u001b[0m\u001b[0mdf_train\u001b[0m\u001b[1;33m[\u001b[0m\u001b[1;34m'MasVnrType'\u001b[0m\u001b[1;33m]\u001b[0m\u001b[1;33m.\u001b[0m\u001b[0mmost_frequent\u001b[0m\u001b[1;33m(\u001b[0m\u001b[1;33m)\u001b[0m\u001b[1;33m)\u001b[0m\u001b[1;33m\u001b[0m\u001b[0m\n\u001b[0m",
      "\u001b[1;32m~\\Anaconda3\\lib\\site-packages\\pandas\\core\\generic.py\u001b[0m in \u001b[0;36m__getattr__\u001b[1;34m(self, name)\u001b[0m\n\u001b[0;32m   3612\u001b[0m             \u001b[1;32mif\u001b[0m \u001b[0mname\u001b[0m \u001b[1;32min\u001b[0m \u001b[0mself\u001b[0m\u001b[1;33m.\u001b[0m\u001b[0m_info_axis\u001b[0m\u001b[1;33m:\u001b[0m\u001b[1;33m\u001b[0m\u001b[0m\n\u001b[0;32m   3613\u001b[0m                 \u001b[1;32mreturn\u001b[0m \u001b[0mself\u001b[0m\u001b[1;33m[\u001b[0m\u001b[0mname\u001b[0m\u001b[1;33m]\u001b[0m\u001b[1;33m\u001b[0m\u001b[0m\n\u001b[1;32m-> 3614\u001b[1;33m             \u001b[1;32mreturn\u001b[0m \u001b[0mobject\u001b[0m\u001b[1;33m.\u001b[0m\u001b[0m__getattribute__\u001b[0m\u001b[1;33m(\u001b[0m\u001b[0mself\u001b[0m\u001b[1;33m,\u001b[0m \u001b[0mname\u001b[0m\u001b[1;33m)\u001b[0m\u001b[1;33m\u001b[0m\u001b[0m\n\u001b[0m\u001b[0;32m   3615\u001b[0m \u001b[1;33m\u001b[0m\u001b[0m\n\u001b[0;32m   3616\u001b[0m     \u001b[1;32mdef\u001b[0m \u001b[0m__setattr__\u001b[0m\u001b[1;33m(\u001b[0m\u001b[0mself\u001b[0m\u001b[1;33m,\u001b[0m \u001b[0mname\u001b[0m\u001b[1;33m,\u001b[0m \u001b[0mvalue\u001b[0m\u001b[1;33m)\u001b[0m\u001b[1;33m:\u001b[0m\u001b[1;33m\u001b[0m\u001b[0m\n",
      "\u001b[1;31mAttributeError\u001b[0m: 'Series' object has no attribute 'most_frequent'"
     ]
    }
   ],
   "source": [
    "df_train['MasVnrType']=df_train['MasVnrType'].fillna(df_train['MasVnrType'].most_frequent())"
   ]
  },
  {
   "cell_type": "code",
   "execution_count": 15,
   "metadata": {},
   "outputs": [],
   "source": [
    "def most_common(lst):\n",
    "    return max(set(lst), key=lst.count)"
   ]
  },
  {
   "cell_type": "code",
   "execution_count": 16,
   "metadata": {},
   "outputs": [
    {
     "ename": "AttributeError",
     "evalue": "'numpy.ndarray' object has no attribute 'count'",
     "output_type": "error",
     "traceback": [
      "\u001b[1;31m---------------------------------------------------------------------------\u001b[0m",
      "\u001b[1;31mAttributeError\u001b[0m                            Traceback (most recent call last)",
      "\u001b[1;32m<ipython-input-16-97e1b8dccafe>\u001b[0m in \u001b[0;36m<module>\u001b[1;34m()\u001b[0m\n\u001b[1;32m----> 1\u001b[1;33m \u001b[0mmost_common\u001b[0m\u001b[1;33m(\u001b[0m\u001b[0ma1\u001b[0m\u001b[1;33m)\u001b[0m\u001b[1;33m\u001b[0m\u001b[0m\n\u001b[0m",
      "\u001b[1;32m<ipython-input-15-315ac2f16a9f>\u001b[0m in \u001b[0;36mmost_common\u001b[1;34m(lst)\u001b[0m\n\u001b[0;32m      1\u001b[0m \u001b[1;32mdef\u001b[0m \u001b[0mmost_common\u001b[0m\u001b[1;33m(\u001b[0m\u001b[0mlst\u001b[0m\u001b[1;33m)\u001b[0m\u001b[1;33m:\u001b[0m\u001b[1;33m\u001b[0m\u001b[0m\n\u001b[1;32m----> 2\u001b[1;33m     \u001b[1;32mreturn\u001b[0m \u001b[0mmax\u001b[0m\u001b[1;33m(\u001b[0m\u001b[0mset\u001b[0m\u001b[1;33m(\u001b[0m\u001b[0mlst\u001b[0m\u001b[1;33m)\u001b[0m\u001b[1;33m,\u001b[0m \u001b[0mkey\u001b[0m\u001b[1;33m=\u001b[0m\u001b[0mlst\u001b[0m\u001b[1;33m.\u001b[0m\u001b[0mcount\u001b[0m\u001b[1;33m)\u001b[0m\u001b[1;33m\u001b[0m\u001b[0m\n\u001b[0m",
      "\u001b[1;31mAttributeError\u001b[0m: 'numpy.ndarray' object has no attribute 'count'"
     ]
    }
   ],
   "source": [
    "most_common(a1)"
   ]
  },
  {
   "cell_type": "code",
   "execution_count": 17,
   "metadata": {},
   "outputs": [
    {
     "data": {
      "text/plain": [
       "114"
      ]
     },
     "execution_count": 17,
     "metadata": {},
     "output_type": "execute_result"
    }
   ],
   "source": [
    "np.sum(a1=='Stone')"
   ]
  },
  {
   "cell_type": "code",
   "execution_count": 18,
   "metadata": {},
   "outputs": [
    {
     "data": {
      "text/plain": [
       "array(['BrkFace', 'None', 'BrkFace', ..., 'BrkFace', 'BrkFace', 'None'],\n",
       "      dtype=object)"
      ]
     },
     "execution_count": 18,
     "metadata": {},
     "output_type": "execute_result"
    }
   ],
   "source": [
    "a1"
   ]
  },
  {
   "cell_type": "code",
   "execution_count": 19,
   "metadata": {},
   "outputs": [],
   "source": [
    "df_train['MasVnrType'].replace(np.nan,'None',inplace=True)"
   ]
  },
  {
   "cell_type": "code",
   "execution_count": 46,
   "metadata": {},
   "outputs": [
    {
     "name": "stdout",
     "output_type": "stream",
     "text": [
      "<class 'pandas.core.frame.DataFrame'>\n",
      "RangeIndex: 1315 entries, 0 to 1314\n",
      "Data columns (total 90 columns):\n",
      "Id                1315 non-null int64\n",
      "MSSubClass        1315 non-null int64\n",
      "MSZoning          1315 non-null object\n",
      "LotFrontage       1315 non-null float64\n",
      "LotArea           1315 non-null int64\n",
      "Street            1315 non-null object\n",
      "Alley             1315 non-null object\n",
      "LotShape          1315 non-null object\n",
      "LandContour       1315 non-null object\n",
      "Utilities         1315 non-null object\n",
      "LotConfig         1315 non-null object\n",
      "LandSlope         1315 non-null object\n",
      "Neighborhood      1315 non-null object\n",
      "Condition1        1315 non-null object\n",
      "Condition2        1315 non-null object\n",
      "BldgType          1315 non-null object\n",
      "HouseStyle        1315 non-null object\n",
      "OverallQual       1315 non-null int64\n",
      "OverallCond       1315 non-null int64\n",
      "YearBuilt         1315 non-null int64\n",
      "YearRemodAdd      1315 non-null int64\n",
      "RoofStyle         1315 non-null object\n",
      "RoofMatl          1315 non-null object\n",
      "Exterior1st       1315 non-null object\n",
      "Exterior2nd       1315 non-null object\n",
      "MasVnrType        1315 non-null object\n",
      "MasVnrArea        1315 non-null float64\n",
      "ExterQual         1315 non-null object\n",
      "ExterCond         1315 non-null object\n",
      "Foundation        1315 non-null object\n",
      "BsmtQual          1280 non-null object\n",
      "BsmtCond          1280 non-null object\n",
      "BsmtExposure      1279 non-null object\n",
      "BsmtFinType1      1280 non-null object\n",
      "BsmtFinSF1        1315 non-null int64\n",
      "BsmtFinType2      1279 non-null object\n",
      "BsmtFinSF2        1315 non-null int64\n",
      "BsmtUnfSF         1315 non-null int64\n",
      "TotalBsmtSF       1315 non-null int64\n",
      "Heating           1315 non-null object\n",
      "HeatingQC         1315 non-null object\n",
      "CentralAir        1315 non-null object\n",
      "Electrical        1315 non-null object\n",
      "1stFlrSF          1315 non-null int64\n",
      "2ndFlrSF          1315 non-null int64\n",
      "LowQualFinSF      1315 non-null int64\n",
      "GrLivArea         1315 non-null int64\n",
      "BsmtFullBath      1315 non-null int64\n",
      "BsmtHalfBath      1315 non-null int64\n",
      "FullBath          1315 non-null int64\n",
      "HalfBath          1315 non-null int64\n",
      "BedroomAbvGr      1315 non-null int64\n",
      "KitchenAbvGr      1315 non-null int64\n",
      "KitchenQual       1315 non-null object\n",
      "TotRmsAbvGrd      1315 non-null int64\n",
      "Functional        1315 non-null object\n",
      "Fireplaces        1315 non-null int64\n",
      "FireplaceQu       691 non-null object\n",
      "GarageType        1243 non-null object\n",
      "GarageYrBlt       1243 non-null float64\n",
      "GarageFinish      1243 non-null object\n",
      "GarageCars        1315 non-null int64\n",
      "GarageArea        1315 non-null int64\n",
      "GarageQual        1243 non-null object\n",
      "GarageCond        1243 non-null object\n",
      "PavedDrive        1315 non-null object\n",
      "WoodDeckSF        1315 non-null int64\n",
      "OpenPorchSF       1315 non-null int64\n",
      "EnclosedPorch     1315 non-null int64\n",
      "3SsnPorch         1315 non-null int64\n",
      "ScreenPorch       1315 non-null int64\n",
      "PoolArea          1315 non-null int64\n",
      "PoolQC            5 non-null object\n",
      "Fence             252 non-null object\n",
      "MiscFeature       51 non-null object\n",
      "MiscVal           1315 non-null int64\n",
      "MoSold            1315 non-null int64\n",
      "YrSold            1315 non-null int64\n",
      "SaleType          1315 non-null object\n",
      "SaleCondition     1315 non-null object\n",
      "SalePrice         1315 non-null int64\n",
      "dwelling_class    1315 non-null int64\n",
      "GrgeCarClass      1315 non-null int64\n",
      "Neighbor_class    1315 non-null int64\n",
      "RoofMatl_class    1315 non-null object\n",
      "RoofStyl_class    1315 non-null object\n",
      "Foundatn_class    1315 non-null object\n",
      "Ultima            1315 non-null object\n",
      "MntHeatng         1315 non-null object\n",
      "Cond_Saletype     1315 non-null object\n",
      "dtypes: float64(3), int64(38), object(49)\n",
      "memory usage: 924.7+ KB\n"
     ]
    }
   ],
   "source": [
    "df_train.info()"
   ]
  },
  {
   "cell_type": "code",
   "execution_count": 35,
   "metadata": {},
   "outputs": [],
   "source": [
    "a5=df_train['LotFrontage'].values"
   ]
  },
  {
   "cell_type": "code",
   "execution_count": 36,
   "metadata": {},
   "outputs": [
    {
     "data": {
      "text/plain": [
       "70.22205323193916"
      ]
     },
     "execution_count": 36,
     "metadata": {},
     "output_type": "execute_result"
    }
   ],
   "source": [
    "a5.mean()"
   ]
  },
  {
   "cell_type": "code",
   "execution_count": 23,
   "metadata": {},
   "outputs": [
    {
     "ename": "NameError",
     "evalue": "name 'a2' is not defined",
     "output_type": "error",
     "traceback": [
      "\u001b[1;31m---------------------------------------------------------------------------\u001b[0m",
      "\u001b[1;31mNameError\u001b[0m                                 Traceback (most recent call last)",
      "\u001b[1;32m<ipython-input-23-3cb33ee1fdbc>\u001b[0m in \u001b[0;36m<module>\u001b[1;34m()\u001b[0m\n\u001b[1;32m----> 1\u001b[1;33m \u001b[0mnp\u001b[0m\u001b[1;33m.\u001b[0m\u001b[0mwhere\u001b[0m\u001b[1;33m(\u001b[0m\u001b[0ma2\u001b[0m\u001b[1;33m==\u001b[0m\u001b[1;34m'nan'\u001b[0m\u001b[1;33m)\u001b[0m\u001b[1;33m\u001b[0m\u001b[0m\n\u001b[0m",
      "\u001b[1;31mNameError\u001b[0m: name 'a2' is not defined"
     ]
    }
   ],
   "source": [
    "np.where(a2=='nan')"
   ]
  },
  {
   "cell_type": "code",
   "execution_count": 24,
   "metadata": {},
   "outputs": [
    {
     "data": {
      "text/plain": [
       "array([ 65.,  80.,  68., ...,  nan, 108.,  60.])"
      ]
     },
     "execution_count": 24,
     "metadata": {},
     "output_type": "execute_result"
    }
   ],
   "source": [
    "a5"
   ]
  },
  {
   "cell_type": "code",
   "execution_count": 25,
   "metadata": {},
   "outputs": [],
   "source": [
    "a3=[]"
   ]
  },
  {
   "cell_type": "code",
   "execution_count": null,
   "metadata": {},
   "outputs": [],
   "source": []
  },
  {
   "cell_type": "code",
   "execution_count": 43,
   "metadata": {},
   "outputs": [
    {
     "name": "stdout",
     "output_type": "stream",
     "text": [
      "196.0\n",
      "0.0\n",
      "162.0\n",
      "0.0\n",
      "350.0\n",
      "0.0\n",
      "186.0\n",
      "240.0\n",
      "0.0\n",
      "0.0\n",
      "0.0\n",
      "286.0\n",
      "0.0\n",
      "306.0\n",
      "212.0\n",
      "0.0\n",
      "180.0\n",
      "0.0\n",
      "0.0\n",
      "0.0\n",
      "380.0\n",
      "0.0\n",
      "281.0\n",
      "0.0\n",
      "0.0\n",
      "640.0\n",
      "0.0\n",
      "200.0\n",
      "0.0\n",
      "0.0\n"
     ]
    }
   ],
   "source": [
    "for j in a7[:30]:\n",
    "    print(j)\n",
    "        "
   ]
  },
  {
   "cell_type": "code",
   "execution_count": 27,
   "metadata": {},
   "outputs": [
    {
     "data": {
      "text/plain": [
       "0"
      ]
     },
     "execution_count": 27,
     "metadata": {},
     "output_type": "execute_result"
    }
   ],
   "source": [
    "len(a3)"
   ]
  },
  {
   "cell_type": "code",
   "execution_count": 28,
   "metadata": {},
   "outputs": [
    {
     "data": {
      "text/plain": [
       "nan"
      ]
     },
     "execution_count": 28,
     "metadata": {},
     "output_type": "execute_result"
    }
   ],
   "source": [
    "a5[7]"
   ]
  },
  {
   "cell_type": "code",
   "execution_count": 29,
   "metadata": {},
   "outputs": [],
   "source": [
    "a5 = a5[np.logical_not(np.isnan(a5))]"
   ]
  },
  {
   "cell_type": "code",
   "execution_count": 30,
   "metadata": {},
   "outputs": [
    {
     "data": {
      "text/plain": [
       "1082"
      ]
     },
     "execution_count": 30,
     "metadata": {},
     "output_type": "execute_result"
    }
   ],
   "source": [
    "a5.size"
   ]
  },
  {
   "cell_type": "code",
   "execution_count": 31,
   "metadata": {},
   "outputs": [
    {
     "data": {
      "text/plain": [
       "70.26987060998151"
      ]
     },
     "execution_count": 31,
     "metadata": {},
     "output_type": "execute_result"
    }
   ],
   "source": [
    "a5.mean()"
   ]
  },
  {
   "cell_type": "code",
   "execution_count": 33,
   "metadata": {},
   "outputs": [],
   "source": [
    "df_train['LotFrontage'].replace(np.nan,70,inplace=True)"
   ]
  },
  {
   "cell_type": "code",
   "execution_count": 38,
   "metadata": {},
   "outputs": [],
   "source": [
    "a7=df_train['MasVnrArea'].values"
   ]
  },
  {
   "cell_type": "code",
   "execution_count": 39,
   "metadata": {},
   "outputs": [
    {
     "data": {
      "text/plain": [
       "array([196.,   0., 162., ..., 336., 165.,   0.])"
      ]
     },
     "execution_count": 39,
     "metadata": {},
     "output_type": "execute_result"
    }
   ],
   "source": [
    "a7"
   ]
  },
  {
   "cell_type": "code",
   "execution_count": 40,
   "metadata": {},
   "outputs": [],
   "source": [
    "a7 = a7[np.logical_not(np.isnan(a7))]"
   ]
  },
  {
   "cell_type": "code",
   "execution_count": 41,
   "metadata": {},
   "outputs": [
    {
     "data": {
      "text/plain": [
       "(1307,)"
      ]
     },
     "execution_count": 41,
     "metadata": {},
     "output_type": "execute_result"
    }
   ],
   "source": [
    "a7.shape"
   ]
  },
  {
   "cell_type": "code",
   "execution_count": 45,
   "metadata": {},
   "outputs": [
    {
     "data": {
      "text/plain": [
       "104.814078041316"
      ]
     },
     "execution_count": 45,
     "metadata": {},
     "output_type": "execute_result"
    }
   ],
   "source": [
    "a7.mean()"
   ]
  },
  {
   "cell_type": "code",
   "execution_count": 44,
   "metadata": {},
   "outputs": [],
   "source": [
    "df_train['MasVnrArea'].replace(np.nan,105,inplace=True)"
   ]
  },
  {
   "cell_type": "code",
   "execution_count": 48,
   "metadata": {},
   "outputs": [],
   "source": [
    "a2=df_train['BsmtCond'].values"
   ]
  },
  {
   "cell_type": "code",
   "execution_count": 50,
   "metadata": {},
   "outputs": [
    {
     "ename": "AttributeError",
     "evalue": "'numpy.ndarray' object has no attribute 'count'",
     "output_type": "error",
     "traceback": [
      "\u001b[1;31m---------------------------------------------------------------------------\u001b[0m",
      "\u001b[1;31mAttributeError\u001b[0m                            Traceback (most recent call last)",
      "\u001b[1;32m<ipython-input-50-1c2873bdc517>\u001b[0m in \u001b[0;36m<module>\u001b[1;34m()\u001b[0m\n\u001b[1;32m----> 1\u001b[1;33m \u001b[0ma2\u001b[0m\u001b[1;33m.\u001b[0m\u001b[0mcount\u001b[0m\u001b[1;33m\u001b[0m\u001b[0m\n\u001b[0m",
      "\u001b[1;31mAttributeError\u001b[0m: 'numpy.ndarray' object has no attribute 'count'"
     ]
    }
   ],
   "source": [
    "a2.count"
   ]
  },
  {
   "cell_type": "code",
   "execution_count": 52,
   "metadata": {},
   "outputs": [
    {
     "data": {
      "text/plain": [
       "<bound method Series.count of 0        TA\n",
       "1        TA\n",
       "2        TA\n",
       "3        Gd\n",
       "4        TA\n",
       "5        TA\n",
       "6        TA\n",
       "7        TA\n",
       "8        TA\n",
       "9        TA\n",
       "10       TA\n",
       "11       TA\n",
       "12       TA\n",
       "13       TA\n",
       "14       TA\n",
       "15       TA\n",
       "16       TA\n",
       "17      NaN\n",
       "18       TA\n",
       "19       TA\n",
       "20       TA\n",
       "21       TA\n",
       "22       TA\n",
       "23       TA\n",
       "24       TA\n",
       "25       TA\n",
       "26       TA\n",
       "27       TA\n",
       "28       TA\n",
       "29       TA\n",
       "       ... \n",
       "1285     TA\n",
       "1286     TA\n",
       "1287     TA\n",
       "1288     TA\n",
       "1289     TA\n",
       "1290     TA\n",
       "1291     TA\n",
       "1292     TA\n",
       "1293     TA\n",
       "1294     TA\n",
       "1295     TA\n",
       "1296     TA\n",
       "1297     TA\n",
       "1298     TA\n",
       "1299     TA\n",
       "1300     TA\n",
       "1301     TA\n",
       "1302     TA\n",
       "1303     TA\n",
       "1304     TA\n",
       "1305     TA\n",
       "1306     TA\n",
       "1307     Gd\n",
       "1308     TA\n",
       "1309     TA\n",
       "1310     TA\n",
       "1311     TA\n",
       "1312     TA\n",
       "1313     TA\n",
       "1314     TA\n",
       "Name: BsmtCond, Length: 1315, dtype: object>"
      ]
     },
     "execution_count": 52,
     "metadata": {},
     "output_type": "execute_result"
    }
   ],
   "source": [
    "df_train['BsmtCond'].count"
   ]
  },
  {
   "cell_type": "code",
   "execution_count": 53,
   "metadata": {},
   "outputs": [],
   "source": [
    "#pd.DataFrame(df_train).set_index('Id').to_csv('Kagg_HouseClean_train1.csv')"
   ]
  },
  {
   "cell_type": "code",
   "execution_count": 119,
   "metadata": {},
   "outputs": [
    {
     "data": {
      "text/html": [
       "<div>\n",
       "<style scoped>\n",
       "    .dataframe tbody tr th:only-of-type {\n",
       "        vertical-align: middle;\n",
       "    }\n",
       "\n",
       "    .dataframe tbody tr th {\n",
       "        vertical-align: top;\n",
       "    }\n",
       "\n",
       "    .dataframe thead th {\n",
       "        text-align: right;\n",
       "    }\n",
       "</style>\n",
       "<table border=\"1\" class=\"dataframe\">\n",
       "  <thead>\n",
       "    <tr style=\"text-align: right;\">\n",
       "      <th></th>\n",
       "      <th>Id</th>\n",
       "      <th>MSSubClass</th>\n",
       "      <th>MSZoning</th>\n",
       "      <th>LotFrontage</th>\n",
       "      <th>LotArea</th>\n",
       "      <th>Street</th>\n",
       "      <th>Alley</th>\n",
       "      <th>LotShape</th>\n",
       "      <th>LandContour</th>\n",
       "      <th>Utilities</th>\n",
       "      <th>...</th>\n",
       "      <th>SalePrice</th>\n",
       "      <th>dwelling_class</th>\n",
       "      <th>GrgeCarClass</th>\n",
       "      <th>Neighbor_class</th>\n",
       "      <th>RoofMatl_class</th>\n",
       "      <th>RoofStyl_class</th>\n",
       "      <th>Foundatn_class</th>\n",
       "      <th>Ultima</th>\n",
       "      <th>MntHeatng</th>\n",
       "      <th>Cond_Saletype</th>\n",
       "    </tr>\n",
       "  </thead>\n",
       "  <tbody>\n",
       "    <tr>\n",
       "      <th>0</th>\n",
       "      <td>1</td>\n",
       "      <td>60</td>\n",
       "      <td>RL</td>\n",
       "      <td>65.0</td>\n",
       "      <td>8450</td>\n",
       "      <td>Pave</td>\n",
       "      <td>NotAvail</td>\n",
       "      <td>Reg</td>\n",
       "      <td>Lvl</td>\n",
       "      <td>AllPub</td>\n",
       "      <td>...</td>\n",
       "      <td>208500</td>\n",
       "      <td>0</td>\n",
       "      <td>0</td>\n",
       "      <td>1</td>\n",
       "      <td>b</td>\n",
       "      <td>B</td>\n",
       "      <td>Y</td>\n",
       "      <td>01bB</td>\n",
       "      <td>2GasA</td>\n",
       "      <td>5Normal</td>\n",
       "    </tr>\n",
       "    <tr>\n",
       "      <th>1</th>\n",
       "      <td>2</td>\n",
       "      <td>20</td>\n",
       "      <td>RL</td>\n",
       "      <td>80.0</td>\n",
       "      <td>9600</td>\n",
       "      <td>Pave</td>\n",
       "      <td>NotAvail</td>\n",
       "      <td>Reg</td>\n",
       "      <td>Lvl</td>\n",
       "      <td>AllPub</td>\n",
       "      <td>...</td>\n",
       "      <td>181500</td>\n",
       "      <td>0</td>\n",
       "      <td>0</td>\n",
       "      <td>1</td>\n",
       "      <td>b</td>\n",
       "      <td>B</td>\n",
       "      <td>Z</td>\n",
       "      <td>01bB</td>\n",
       "      <td>5GasA</td>\n",
       "      <td>8Normal</td>\n",
       "    </tr>\n",
       "    <tr>\n",
       "      <th>2</th>\n",
       "      <td>3</td>\n",
       "      <td>60</td>\n",
       "      <td>RL</td>\n",
       "      <td>68.0</td>\n",
       "      <td>11250</td>\n",
       "      <td>Pave</td>\n",
       "      <td>NotAvail</td>\n",
       "      <td>IR1</td>\n",
       "      <td>Lvl</td>\n",
       "      <td>AllPub</td>\n",
       "      <td>...</td>\n",
       "      <td>223500</td>\n",
       "      <td>0</td>\n",
       "      <td>0</td>\n",
       "      <td>1</td>\n",
       "      <td>b</td>\n",
       "      <td>B</td>\n",
       "      <td>Y</td>\n",
       "      <td>01bB</td>\n",
       "      <td>9GasA</td>\n",
       "      <td>5Normal</td>\n",
       "    </tr>\n",
       "    <tr>\n",
       "      <th>3</th>\n",
       "      <td>4</td>\n",
       "      <td>70</td>\n",
       "      <td>RL</td>\n",
       "      <td>60.0</td>\n",
       "      <td>9550</td>\n",
       "      <td>Pave</td>\n",
       "      <td>NotAvail</td>\n",
       "      <td>IR1</td>\n",
       "      <td>Lvl</td>\n",
       "      <td>AllPub</td>\n",
       "      <td>...</td>\n",
       "      <td>140000</td>\n",
       "      <td>0</td>\n",
       "      <td>1</td>\n",
       "      <td>1</td>\n",
       "      <td>b</td>\n",
       "      <td>B</td>\n",
       "      <td>X</td>\n",
       "      <td>11bB</td>\n",
       "      <td>2GasA</td>\n",
       "      <td>5Abnorml</td>\n",
       "    </tr>\n",
       "    <tr>\n",
       "      <th>4</th>\n",
       "      <td>5</td>\n",
       "      <td>60</td>\n",
       "      <td>RL</td>\n",
       "      <td>84.0</td>\n",
       "      <td>14260</td>\n",
       "      <td>Pave</td>\n",
       "      <td>NotAvail</td>\n",
       "      <td>IR1</td>\n",
       "      <td>Lvl</td>\n",
       "      <td>AllPub</td>\n",
       "      <td>...</td>\n",
       "      <td>250000</td>\n",
       "      <td>0</td>\n",
       "      <td>1</td>\n",
       "      <td>0</td>\n",
       "      <td>b</td>\n",
       "      <td>B</td>\n",
       "      <td>Y</td>\n",
       "      <td>10bB</td>\n",
       "      <td>12GasA</td>\n",
       "      <td>5Normal</td>\n",
       "    </tr>\n",
       "    <tr>\n",
       "      <th>5</th>\n",
       "      <td>6</td>\n",
       "      <td>50</td>\n",
       "      <td>RL</td>\n",
       "      <td>85.0</td>\n",
       "      <td>14115</td>\n",
       "      <td>Pave</td>\n",
       "      <td>NotAvail</td>\n",
       "      <td>IR1</td>\n",
       "      <td>Lvl</td>\n",
       "      <td>AllPub</td>\n",
       "      <td>...</td>\n",
       "      <td>143000</td>\n",
       "      <td>0</td>\n",
       "      <td>0</td>\n",
       "      <td>1</td>\n",
       "      <td>b</td>\n",
       "      <td>B</td>\n",
       "      <td>W</td>\n",
       "      <td>01bB</td>\n",
       "      <td>10GasA</td>\n",
       "      <td>5Normal</td>\n",
       "    </tr>\n",
       "    <tr>\n",
       "      <th>6</th>\n",
       "      <td>7</td>\n",
       "      <td>20</td>\n",
       "      <td>RL</td>\n",
       "      <td>75.0</td>\n",
       "      <td>10084</td>\n",
       "      <td>Pave</td>\n",
       "      <td>NotAvail</td>\n",
       "      <td>Reg</td>\n",
       "      <td>Lvl</td>\n",
       "      <td>AllPub</td>\n",
       "      <td>...</td>\n",
       "      <td>307000</td>\n",
       "      <td>0</td>\n",
       "      <td>0</td>\n",
       "      <td>1</td>\n",
       "      <td>b</td>\n",
       "      <td>B</td>\n",
       "      <td>Y</td>\n",
       "      <td>01bB</td>\n",
       "      <td>8GasA</td>\n",
       "      <td>5Normal</td>\n",
       "    </tr>\n",
       "    <tr>\n",
       "      <th>7</th>\n",
       "      <td>8</td>\n",
       "      <td>60</td>\n",
       "      <td>RL</td>\n",
       "      <td>70.0</td>\n",
       "      <td>10382</td>\n",
       "      <td>Pave</td>\n",
       "      <td>NotAvail</td>\n",
       "      <td>IR1</td>\n",
       "      <td>Lvl</td>\n",
       "      <td>AllPub</td>\n",
       "      <td>...</td>\n",
       "      <td>200000</td>\n",
       "      <td>0</td>\n",
       "      <td>0</td>\n",
       "      <td>1</td>\n",
       "      <td>b</td>\n",
       "      <td>B</td>\n",
       "      <td>Z</td>\n",
       "      <td>01bB</td>\n",
       "      <td>11GasA</td>\n",
       "      <td>6Normal</td>\n",
       "    </tr>\n",
       "    <tr>\n",
       "      <th>8</th>\n",
       "      <td>9</td>\n",
       "      <td>50</td>\n",
       "      <td>RM</td>\n",
       "      <td>51.0</td>\n",
       "      <td>6120</td>\n",
       "      <td>Pave</td>\n",
       "      <td>NotAvail</td>\n",
       "      <td>Reg</td>\n",
       "      <td>Lvl</td>\n",
       "      <td>AllPub</td>\n",
       "      <td>...</td>\n",
       "      <td>129900</td>\n",
       "      <td>0</td>\n",
       "      <td>0</td>\n",
       "      <td>1</td>\n",
       "      <td>b</td>\n",
       "      <td>B</td>\n",
       "      <td>X</td>\n",
       "      <td>01bB</td>\n",
       "      <td>4GasA</td>\n",
       "      <td>5Abnorml</td>\n",
       "    </tr>\n",
       "    <tr>\n",
       "      <th>9</th>\n",
       "      <td>10</td>\n",
       "      <td>190</td>\n",
       "      <td>RL</td>\n",
       "      <td>50.0</td>\n",
       "      <td>7420</td>\n",
       "      <td>Pave</td>\n",
       "      <td>NotAvail</td>\n",
       "      <td>Reg</td>\n",
       "      <td>Lvl</td>\n",
       "      <td>AllPub</td>\n",
       "      <td>...</td>\n",
       "      <td>118000</td>\n",
       "      <td>2</td>\n",
       "      <td>0</td>\n",
       "      <td>1</td>\n",
       "      <td>b</td>\n",
       "      <td>B</td>\n",
       "      <td>X</td>\n",
       "      <td>01bB</td>\n",
       "      <td>1GasA</td>\n",
       "      <td>6Normal</td>\n",
       "    </tr>\n",
       "  </tbody>\n",
       "</table>\n",
       "<p>10 rows × 90 columns</p>\n",
       "</div>"
      ],
      "text/plain": [
       "   Id  MSSubClass MSZoning  LotFrontage  LotArea Street     Alley LotShape  \\\n",
       "0   1          60       RL         65.0     8450   Pave  NotAvail      Reg   \n",
       "1   2          20       RL         80.0     9600   Pave  NotAvail      Reg   \n",
       "2   3          60       RL         68.0    11250   Pave  NotAvail      IR1   \n",
       "3   4          70       RL         60.0     9550   Pave  NotAvail      IR1   \n",
       "4   5          60       RL         84.0    14260   Pave  NotAvail      IR1   \n",
       "5   6          50       RL         85.0    14115   Pave  NotAvail      IR1   \n",
       "6   7          20       RL         75.0    10084   Pave  NotAvail      Reg   \n",
       "7   8          60       RL         70.0    10382   Pave  NotAvail      IR1   \n",
       "8   9          50       RM         51.0     6120   Pave  NotAvail      Reg   \n",
       "9  10         190       RL         50.0     7420   Pave  NotAvail      Reg   \n",
       "\n",
       "  LandContour Utilities      ...       SalePrice dwelling_class GrgeCarClass  \\\n",
       "0         Lvl    AllPub      ...          208500              0            0   \n",
       "1         Lvl    AllPub      ...          181500              0            0   \n",
       "2         Lvl    AllPub      ...          223500              0            0   \n",
       "3         Lvl    AllPub      ...          140000              0            1   \n",
       "4         Lvl    AllPub      ...          250000              0            1   \n",
       "5         Lvl    AllPub      ...          143000              0            0   \n",
       "6         Lvl    AllPub      ...          307000              0            0   \n",
       "7         Lvl    AllPub      ...          200000              0            0   \n",
       "8         Lvl    AllPub      ...          129900              0            0   \n",
       "9         Lvl    AllPub      ...          118000              2            0   \n",
       "\n",
       "  Neighbor_class RoofMatl_class RoofStyl_class Foundatn_class  Ultima  \\\n",
       "0              1              b              B              Y    01bB   \n",
       "1              1              b              B              Z    01bB   \n",
       "2              1              b              B              Y    01bB   \n",
       "3              1              b              B              X    11bB   \n",
       "4              0              b              B              Y    10bB   \n",
       "5              1              b              B              W    01bB   \n",
       "6              1              b              B              Y    01bB   \n",
       "7              1              b              B              Z    01bB   \n",
       "8              1              b              B              X    01bB   \n",
       "9              1              b              B              X    01bB   \n",
       "\n",
       "   MntHeatng  Cond_Saletype  \n",
       "0      2GasA        5Normal  \n",
       "1      5GasA        8Normal  \n",
       "2      9GasA        5Normal  \n",
       "3      2GasA       5Abnorml  \n",
       "4     12GasA        5Normal  \n",
       "5     10GasA        5Normal  \n",
       "6      8GasA        5Normal  \n",
       "7     11GasA        6Normal  \n",
       "8      4GasA       5Abnorml  \n",
       "9      1GasA        6Normal  \n",
       "\n",
       "[10 rows x 90 columns]"
      ]
     },
     "execution_count": 119,
     "metadata": {},
     "output_type": "execute_result"
    }
   ],
   "source": [
    "#df_=pd.read_csv('./Kagg_HouseClean_train1.csv')\n",
    "df_.head(10)"
   ]
  },
  {
   "cell_type": "code",
   "execution_count": 108,
   "metadata": {},
   "outputs": [
    {
     "name": "stdout",
     "output_type": "stream",
     "text": [
      "<class 'pandas.core.frame.DataFrame'>\n",
      "RangeIndex: 1315 entries, 0 to 1314\n",
      "Data columns (total 90 columns):\n",
      "Id                1315 non-null int64\n",
      "MSSubClass        1315 non-null int64\n",
      "MSZoning          1315 non-null object\n",
      "LotFrontage       1315 non-null float64\n",
      "LotArea           1315 non-null int64\n",
      "Street            1315 non-null object\n",
      "Alley             1315 non-null object\n",
      "LotShape          1315 non-null object\n",
      "LandContour       1315 non-null object\n",
      "Utilities         1315 non-null object\n",
      "LotConfig         1315 non-null object\n",
      "LandSlope         1315 non-null object\n",
      "Neighborhood      1315 non-null object\n",
      "Condition1        1315 non-null object\n",
      "Condition2        1315 non-null object\n",
      "BldgType          1315 non-null object\n",
      "HouseStyle        1315 non-null object\n",
      "OverallQual       1315 non-null int64\n",
      "OverallCond       1315 non-null int64\n",
      "YearBuilt         1315 non-null int64\n",
      "YearRemodAdd      1315 non-null int64\n",
      "RoofStyle         1315 non-null object\n",
      "RoofMatl          1315 non-null object\n",
      "Exterior1st       1315 non-null object\n",
      "Exterior2nd       1315 non-null object\n",
      "MasVnrType        1315 non-null object\n",
      "MasVnrArea        1315 non-null float64\n",
      "ExterQual         1315 non-null object\n",
      "ExterCond         1315 non-null object\n",
      "Foundation        1315 non-null object\n",
      "BsmtQual          1315 non-null object\n",
      "BsmtCond          1315 non-null object\n",
      "BsmtExposure      1315 non-null object\n",
      "BsmtFinType1      1315 non-null object\n",
      "BsmtFinSF1        1315 non-null int64\n",
      "BsmtFinType2      1315 non-null object\n",
      "BsmtFinSF2        1315 non-null int64\n",
      "BsmtUnfSF         1315 non-null int64\n",
      "TotalBsmtSF       1315 non-null int64\n",
      "Heating           1315 non-null object\n",
      "HeatingQC         1315 non-null object\n",
      "CentralAir        1315 non-null object\n",
      "Electrical        1315 non-null object\n",
      "1stFlrSF          1315 non-null int64\n",
      "2ndFlrSF          1315 non-null int64\n",
      "LowQualFinSF      1315 non-null int64\n",
      "GrLivArea         1315 non-null int64\n",
      "BsmtFullBath      1315 non-null int64\n",
      "BsmtHalfBath      1315 non-null int64\n",
      "FullBath          1315 non-null int64\n",
      "HalfBath          1315 non-null int64\n",
      "BedroomAbvGr      1315 non-null int64\n",
      "KitchenAbvGr      1315 non-null int64\n",
      "KitchenQual       1315 non-null object\n",
      "TotRmsAbvGrd      1315 non-null int64\n",
      "Functional        1315 non-null object\n",
      "Fireplaces        1315 non-null int64\n",
      "FireplaceQu       1315 non-null object\n",
      "GarageType        1315 non-null object\n",
      "GarageYrBlt       1315 non-null float64\n",
      "GarageFinish      1315 non-null object\n",
      "GarageCars        1315 non-null int64\n",
      "GarageArea        1315 non-null int64\n",
      "GarageQual        1315 non-null object\n",
      "GarageCond        1315 non-null object\n",
      "PavedDrive        1315 non-null object\n",
      "WoodDeckSF        1315 non-null int64\n",
      "OpenPorchSF       1315 non-null int64\n",
      "EnclosedPorch     1315 non-null int64\n",
      "3SsnPorch         1315 non-null int64\n",
      "ScreenPorch       1315 non-null int64\n",
      "PoolArea          1315 non-null int64\n",
      "PoolQC            1315 non-null object\n",
      "Fence             1315 non-null object\n",
      "MiscFeature       1315 non-null object\n",
      "MiscVal           1315 non-null int64\n",
      "MoSold            1315 non-null int64\n",
      "YrSold            1315 non-null int64\n",
      "SaleType          1315 non-null object\n",
      "SaleCondition     1315 non-null object\n",
      "SalePrice         1315 non-null int64\n",
      "dwelling_class    1315 non-null int64\n",
      "GrgeCarClass      1315 non-null int64\n",
      "Neighbor_class    1315 non-null int64\n",
      "RoofMatl_class    1315 non-null object\n",
      "RoofStyl_class    1315 non-null object\n",
      "Foundatn_class    1315 non-null object\n",
      "Ultima            1315 non-null object\n",
      "MntHeatng         1315 non-null object\n",
      "Cond_Saletype     1315 non-null object\n",
      "dtypes: float64(3), int64(38), object(49)\n",
      "memory usage: 924.7+ KB\n"
     ]
    }
   ],
   "source": [
    "df_.info()"
   ]
  },
  {
   "cell_type": "code",
   "execution_count": 66,
   "metadata": {},
   "outputs": [],
   "source": [
    "df_['Alley'].replace(np.nan,'NotAvail',inplace=True)"
   ]
  },
  {
   "cell_type": "code",
   "execution_count": 100,
   "metadata": {},
   "outputs": [
    {
     "data": {
      "text/plain": [
       "array([nan, 'MnPrv', 'GdWo', 'GdPrv', 'MnWw'], dtype=object)"
      ]
     },
     "execution_count": 100,
     "metadata": {},
     "output_type": "execute_result"
    }
   ],
   "source": [
    "df_['Fence'].unique()"
   ]
  },
  {
   "cell_type": "code",
   "execution_count": 101,
   "metadata": {},
   "outputs": [],
   "source": [
    "a1=df_['Fence'].values"
   ]
  },
  {
   "cell_type": "code",
   "execution_count": 84,
   "metadata": {},
   "outputs": [],
   "source": [
    "#a1=a1[np.logical_not(np.isnan(a1))]"
   ]
  },
  {
   "cell_type": "code",
   "execution_count": 86,
   "metadata": {},
   "outputs": [
    {
     "data": {
      "text/plain": [
       "1978.4368463395012"
      ]
     },
     "execution_count": 86,
     "metadata": {},
     "output_type": "execute_result"
    }
   ],
   "source": [
    "a1.mean()"
   ]
  },
  {
   "cell_type": "code",
   "execution_count": null,
   "metadata": {},
   "outputs": [],
   "source": []
  },
  {
   "cell_type": "code",
   "execution_count": 105,
   "metadata": {},
   "outputs": [
    {
     "data": {
      "text/plain": [
       "10"
      ]
     },
     "execution_count": 105,
     "metadata": {},
     "output_type": "execute_result"
    }
   ],
   "source": [
    "np.sum(a1=='MnWw')"
   ]
  },
  {
   "cell_type": "code",
   "execution_count": 107,
   "metadata": {},
   "outputs": [],
   "source": [
    "df_['MiscFeature'].replace(np.nan,'NotAvail',inplace=True)"
   ]
  },
  {
   "cell_type": "code",
   "execution_count": 130,
   "metadata": {},
   "outputs": [
    {
     "name": "stdout",
     "output_type": "stream",
     "text": [
      "<class 'pandas.core.frame.DataFrame'>\n",
      "RangeIndex: 1315 entries, 0 to 1314\n",
      "Data columns (total 90 columns):\n",
      "Id                1315 non-null int64\n",
      "MSSubClass        1315 non-null int64\n",
      "MSZoning          1315 non-null object\n",
      "LotFrontage       1315 non-null float64\n",
      "LotArea           1315 non-null int64\n",
      "Street            1315 non-null object\n",
      "Alley             1315 non-null object\n",
      "LotShape          1315 non-null object\n",
      "LandContour       1315 non-null object\n",
      "Utilities         1315 non-null object\n",
      "LotConfig         1315 non-null object\n",
      "LandSlope         1315 non-null object\n",
      "Neighborhood      1315 non-null object\n",
      "Condition1        1315 non-null object\n",
      "Condition2        1315 non-null object\n",
      "BldgType          1315 non-null object\n",
      "HouseStyle        1315 non-null object\n",
      "OverallQual       1315 non-null int64\n",
      "OverallCond       1315 non-null int64\n",
      "YearBuilt         1315 non-null int64\n",
      "YearRemodAdd      1315 non-null int64\n",
      "RoofStyle         1315 non-null object\n",
      "RoofMatl          1315 non-null object\n",
      "Exterior1st       1315 non-null object\n",
      "Exterior2nd       1315 non-null object\n",
      "MasVnrType        1315 non-null object\n",
      "MasVnrArea        1315 non-null float64\n",
      "ExterQual         1315 non-null object\n",
      "ExterCond         1315 non-null object\n",
      "Foundation        1315 non-null object\n",
      "BsmtQual          1315 non-null object\n",
      "BsmtCond          1315 non-null object\n",
      "BsmtExposure      1315 non-null object\n",
      "BsmtFinType1      1315 non-null object\n",
      "BsmtFinSF1        1315 non-null int64\n",
      "BsmtFinType2      1315 non-null object\n",
      "BsmtFinSF2        1315 non-null int64\n",
      "BsmtUnfSF         1315 non-null int64\n",
      "TotalBsmtSF       1315 non-null int64\n",
      "Heating           1315 non-null object\n",
      "HeatingQC         1315 non-null object\n",
      "CentralAir        1315 non-null object\n",
      "Electrical        1315 non-null object\n",
      "1stFlrSF          1315 non-null int64\n",
      "2ndFlrSF          1315 non-null int64\n",
      "LowQualFinSF      1315 non-null int64\n",
      "GrLivArea         1315 non-null int64\n",
      "BsmtFullBath      1315 non-null int64\n",
      "BsmtHalfBath      1315 non-null int64\n",
      "FullBath          1315 non-null int64\n",
      "HalfBath          1315 non-null int64\n",
      "BedroomAbvGr      1315 non-null int64\n",
      "KitchenAbvGr      1315 non-null int64\n",
      "KitchenQual       1315 non-null object\n",
      "TotRmsAbvGrd      1315 non-null int64\n",
      "Functional        1315 non-null object\n",
      "Fireplaces        1315 non-null int64\n",
      "FireplaceQu       1315 non-null object\n",
      "GarageType        1315 non-null object\n",
      "GarageYrBlt       1315 non-null float64\n",
      "GarageFinish      1315 non-null object\n",
      "GarageCars        1315 non-null int64\n",
      "GarageArea        1315 non-null int64\n",
      "GarageQual        1315 non-null object\n",
      "GarageCond        1315 non-null object\n",
      "PavedDrive        1315 non-null object\n",
      "WoodDeckSF        1315 non-null int64\n",
      "OpenPorchSF       1315 non-null int64\n",
      "EnclosedPorch     1315 non-null int64\n",
      "3SsnPorch         1315 non-null int64\n",
      "ScreenPorch       1315 non-null int64\n",
      "PoolArea          1315 non-null int64\n",
      "PoolQC            1315 non-null object\n",
      "Fence             1315 non-null object\n",
      "MiscFeature       1315 non-null object\n",
      "MiscVal           1315 non-null int64\n",
      "MoSold            1315 non-null int64\n",
      "YrSold            1315 non-null int64\n",
      "SaleType          1315 non-null object\n",
      "SaleCondition     1315 non-null object\n",
      "SalePrice         1315 non-null int64\n",
      "dwelling_class    1315 non-null int64\n",
      "GrgeCarClass      1315 non-null int64\n",
      "Neighbor_class    1315 non-null int64\n",
      "RoofMatl_class    1315 non-null object\n",
      "RoofStyl_class    1315 non-null object\n",
      "Foundatn_class    1315 non-null object\n",
      "Ultima            1315 non-null object\n",
      "MntHeatng         1315 non-null object\n",
      "Cond_Saletype     1315 non-null object\n",
      "dtypes: float64(3), int64(38), object(49)\n",
      "memory usage: 924.7+ KB\n"
     ]
    }
   ],
   "source": [
    "df_.info()"
   ]
  },
  {
   "cell_type": "code",
   "execution_count": 113,
   "metadata": {},
   "outputs": [],
   "source": [
    "#pd.DataFrame(df_).set_index('Id').to_csv('Kagg_HouseCleaned_train2.csv')"
   ]
  },
  {
   "cell_type": "code",
   "execution_count": 121,
   "metadata": {},
   "outputs": [],
   "source": [
    "df_1=pd.get_dummies(data=df_, columns=['Ultima','MntHeatng','Cond_Saletype'])"
   ]
  },
  {
   "cell_type": "code",
   "execution_count": 122,
   "metadata": {},
   "outputs": [
    {
     "data": {
      "text/html": [
       "<div>\n",
       "<style scoped>\n",
       "    .dataframe tbody tr th:only-of-type {\n",
       "        vertical-align: middle;\n",
       "    }\n",
       "\n",
       "    .dataframe tbody tr th {\n",
       "        vertical-align: top;\n",
       "    }\n",
       "\n",
       "    .dataframe thead th {\n",
       "        text-align: right;\n",
       "    }\n",
       "</style>\n",
       "<table border=\"1\" class=\"dataframe\">\n",
       "  <thead>\n",
       "    <tr style=\"text-align: right;\">\n",
       "      <th></th>\n",
       "      <th>Id</th>\n",
       "      <th>MSSubClass</th>\n",
       "      <th>MSZoning</th>\n",
       "      <th>LotFrontage</th>\n",
       "      <th>LotArea</th>\n",
       "      <th>Street</th>\n",
       "      <th>Alley</th>\n",
       "      <th>LotShape</th>\n",
       "      <th>LandContour</th>\n",
       "      <th>Utilities</th>\n",
       "      <th>...</th>\n",
       "      <th>Cond_Saletype_6Normal</th>\n",
       "      <th>Cond_Saletype_6Partial</th>\n",
       "      <th>Cond_Saletype_7Abnorml</th>\n",
       "      <th>Cond_Saletype_7Alloca</th>\n",
       "      <th>Cond_Saletype_7Family</th>\n",
       "      <th>Cond_Saletype_7Normal</th>\n",
       "      <th>Cond_Saletype_8Family</th>\n",
       "      <th>Cond_Saletype_8Normal</th>\n",
       "      <th>Cond_Saletype_8Partial</th>\n",
       "      <th>Cond_Saletype_9Normal</th>\n",
       "    </tr>\n",
       "  </thead>\n",
       "  <tbody>\n",
       "    <tr>\n",
       "      <th>0</th>\n",
       "      <td>1</td>\n",
       "      <td>60</td>\n",
       "      <td>RL</td>\n",
       "      <td>65.0</td>\n",
       "      <td>8450</td>\n",
       "      <td>Pave</td>\n",
       "      <td>NotAvail</td>\n",
       "      <td>Reg</td>\n",
       "      <td>Lvl</td>\n",
       "      <td>AllPub</td>\n",
       "      <td>...</td>\n",
       "      <td>0</td>\n",
       "      <td>0</td>\n",
       "      <td>0</td>\n",
       "      <td>0</td>\n",
       "      <td>0</td>\n",
       "      <td>0</td>\n",
       "      <td>0</td>\n",
       "      <td>0</td>\n",
       "      <td>0</td>\n",
       "      <td>0</td>\n",
       "    </tr>\n",
       "    <tr>\n",
       "      <th>1</th>\n",
       "      <td>2</td>\n",
       "      <td>20</td>\n",
       "      <td>RL</td>\n",
       "      <td>80.0</td>\n",
       "      <td>9600</td>\n",
       "      <td>Pave</td>\n",
       "      <td>NotAvail</td>\n",
       "      <td>Reg</td>\n",
       "      <td>Lvl</td>\n",
       "      <td>AllPub</td>\n",
       "      <td>...</td>\n",
       "      <td>0</td>\n",
       "      <td>0</td>\n",
       "      <td>0</td>\n",
       "      <td>0</td>\n",
       "      <td>0</td>\n",
       "      <td>0</td>\n",
       "      <td>0</td>\n",
       "      <td>1</td>\n",
       "      <td>0</td>\n",
       "      <td>0</td>\n",
       "    </tr>\n",
       "    <tr>\n",
       "      <th>2</th>\n",
       "      <td>3</td>\n",
       "      <td>60</td>\n",
       "      <td>RL</td>\n",
       "      <td>68.0</td>\n",
       "      <td>11250</td>\n",
       "      <td>Pave</td>\n",
       "      <td>NotAvail</td>\n",
       "      <td>IR1</td>\n",
       "      <td>Lvl</td>\n",
       "      <td>AllPub</td>\n",
       "      <td>...</td>\n",
       "      <td>0</td>\n",
       "      <td>0</td>\n",
       "      <td>0</td>\n",
       "      <td>0</td>\n",
       "      <td>0</td>\n",
       "      <td>0</td>\n",
       "      <td>0</td>\n",
       "      <td>0</td>\n",
       "      <td>0</td>\n",
       "      <td>0</td>\n",
       "    </tr>\n",
       "    <tr>\n",
       "      <th>3</th>\n",
       "      <td>4</td>\n",
       "      <td>70</td>\n",
       "      <td>RL</td>\n",
       "      <td>60.0</td>\n",
       "      <td>9550</td>\n",
       "      <td>Pave</td>\n",
       "      <td>NotAvail</td>\n",
       "      <td>IR1</td>\n",
       "      <td>Lvl</td>\n",
       "      <td>AllPub</td>\n",
       "      <td>...</td>\n",
       "      <td>0</td>\n",
       "      <td>0</td>\n",
       "      <td>0</td>\n",
       "      <td>0</td>\n",
       "      <td>0</td>\n",
       "      <td>0</td>\n",
       "      <td>0</td>\n",
       "      <td>0</td>\n",
       "      <td>0</td>\n",
       "      <td>0</td>\n",
       "    </tr>\n",
       "    <tr>\n",
       "      <th>4</th>\n",
       "      <td>5</td>\n",
       "      <td>60</td>\n",
       "      <td>RL</td>\n",
       "      <td>84.0</td>\n",
       "      <td>14260</td>\n",
       "      <td>Pave</td>\n",
       "      <td>NotAvail</td>\n",
       "      <td>IR1</td>\n",
       "      <td>Lvl</td>\n",
       "      <td>AllPub</td>\n",
       "      <td>...</td>\n",
       "      <td>0</td>\n",
       "      <td>0</td>\n",
       "      <td>0</td>\n",
       "      <td>0</td>\n",
       "      <td>0</td>\n",
       "      <td>0</td>\n",
       "      <td>0</td>\n",
       "      <td>0</td>\n",
       "      <td>0</td>\n",
       "      <td>0</td>\n",
       "    </tr>\n",
       "  </tbody>\n",
       "</table>\n",
       "<p>5 rows × 167 columns</p>\n",
       "</div>"
      ],
      "text/plain": [
       "   Id  MSSubClass MSZoning  LotFrontage  LotArea Street     Alley LotShape  \\\n",
       "0   1          60       RL         65.0     8450   Pave  NotAvail      Reg   \n",
       "1   2          20       RL         80.0     9600   Pave  NotAvail      Reg   \n",
       "2   3          60       RL         68.0    11250   Pave  NotAvail      IR1   \n",
       "3   4          70       RL         60.0     9550   Pave  NotAvail      IR1   \n",
       "4   5          60       RL         84.0    14260   Pave  NotAvail      IR1   \n",
       "\n",
       "  LandContour Utilities          ...           Cond_Saletype_6Normal  \\\n",
       "0         Lvl    AllPub          ...                               0   \n",
       "1         Lvl    AllPub          ...                               0   \n",
       "2         Lvl    AllPub          ...                               0   \n",
       "3         Lvl    AllPub          ...                               0   \n",
       "4         Lvl    AllPub          ...                               0   \n",
       "\n",
       "  Cond_Saletype_6Partial Cond_Saletype_7Abnorml Cond_Saletype_7Alloca  \\\n",
       "0                      0                      0                     0   \n",
       "1                      0                      0                     0   \n",
       "2                      0                      0                     0   \n",
       "3                      0                      0                     0   \n",
       "4                      0                      0                     0   \n",
       "\n",
       "  Cond_Saletype_7Family Cond_Saletype_7Normal Cond_Saletype_8Family  \\\n",
       "0                     0                     0                     0   \n",
       "1                     0                     0                     0   \n",
       "2                     0                     0                     0   \n",
       "3                     0                     0                     0   \n",
       "4                     0                     0                     0   \n",
       "\n",
       "   Cond_Saletype_8Normal  Cond_Saletype_8Partial  Cond_Saletype_9Normal  \n",
       "0                      0                       0                      0  \n",
       "1                      1                       0                      0  \n",
       "2                      0                       0                      0  \n",
       "3                      0                       0                      0  \n",
       "4                      0                       0                      0  \n",
       "\n",
       "[5 rows x 167 columns]"
      ]
     },
     "execution_count": 122,
     "metadata": {},
     "output_type": "execute_result"
    }
   ],
   "source": [
    "df_1.head()"
   ]
  },
  {
   "cell_type": "code",
   "execution_count": 126,
   "metadata": {},
   "outputs": [
    {
     "data": {
      "text/plain": [
       "array(['5Normal', '8Normal', '5Abnorml', '6Normal', '5Partial', '7Normal',\n",
       "       '6Abnorml', '4Normal', '7Abnorml', '5AdjLand', '2Abnorml',\n",
       "       '3Abnorml', '5Alloca', '5Family', '9Normal', '4Abnorml', '4Family',\n",
       "       '3Normal', '2Normal', '8Family', '1Normal', '2Partial', '3AdjLand',\n",
       "       '6AdjLand', '7Alloca', '3Alloca', '8Partial', '6Alloca',\n",
       "       '6Partial', '7Family', '6Family', '4Alloca'], dtype=object)"
      ]
     },
     "execution_count": 126,
     "metadata": {},
     "output_type": "execute_result"
    }
   ],
   "source": [
    "df_['Cond_Saletype'].unique()"
   ]
  },
  {
   "cell_type": "code",
   "execution_count": 139,
   "metadata": {},
   "outputs": [],
   "source": [
    "d4=[]"
   ]
  },
  {
   "cell_type": "code",
   "execution_count": 142,
   "metadata": {},
   "outputs": [],
   "source": [
    "for i in df_.columns:\n",
    "    if df_[i].dtype==object:\n",
    "        d4.append(i)"
   ]
  },
  {
   "cell_type": "code",
   "execution_count": 137,
   "metadata": {},
   "outputs": [
    {
     "data": {
      "text/plain": [
       "dtype('O')"
      ]
     },
     "execution_count": 137,
     "metadata": {},
     "output_type": "execute_result"
    }
   ],
   "source": [
    "(df_.columns).dtype"
   ]
  },
  {
   "cell_type": "code",
   "execution_count": 144,
   "metadata": {},
   "outputs": [
    {
     "data": {
      "text/plain": [
       "49"
      ]
     },
     "execution_count": 144,
     "metadata": {},
     "output_type": "execute_result"
    }
   ],
   "source": [
    "len(d4)"
   ]
  },
  {
   "cell_type": "code",
   "execution_count": 146,
   "metadata": {},
   "outputs": [],
   "source": [
    "df_2=pd.get_dummies(data=df_, columns=d4)"
   ]
  },
  {
   "cell_type": "code",
   "execution_count": 147,
   "metadata": {},
   "outputs": [
    {
     "data": {
      "text/html": [
       "<div>\n",
       "<style scoped>\n",
       "    .dataframe tbody tr th:only-of-type {\n",
       "        vertical-align: middle;\n",
       "    }\n",
       "\n",
       "    .dataframe tbody tr th {\n",
       "        vertical-align: top;\n",
       "    }\n",
       "\n",
       "    .dataframe thead th {\n",
       "        text-align: right;\n",
       "    }\n",
       "</style>\n",
       "<table border=\"1\" class=\"dataframe\">\n",
       "  <thead>\n",
       "    <tr style=\"text-align: right;\">\n",
       "      <th></th>\n",
       "      <th>Id</th>\n",
       "      <th>MSSubClass</th>\n",
       "      <th>LotFrontage</th>\n",
       "      <th>LotArea</th>\n",
       "      <th>OverallQual</th>\n",
       "      <th>OverallCond</th>\n",
       "      <th>YearBuilt</th>\n",
       "      <th>YearRemodAdd</th>\n",
       "      <th>MasVnrArea</th>\n",
       "      <th>BsmtFinSF1</th>\n",
       "      <th>...</th>\n",
       "      <th>Cond_Saletype_6Normal</th>\n",
       "      <th>Cond_Saletype_6Partial</th>\n",
       "      <th>Cond_Saletype_7Abnorml</th>\n",
       "      <th>Cond_Saletype_7Alloca</th>\n",
       "      <th>Cond_Saletype_7Family</th>\n",
       "      <th>Cond_Saletype_7Normal</th>\n",
       "      <th>Cond_Saletype_8Family</th>\n",
       "      <th>Cond_Saletype_8Normal</th>\n",
       "      <th>Cond_Saletype_8Partial</th>\n",
       "      <th>Cond_Saletype_9Normal</th>\n",
       "    </tr>\n",
       "  </thead>\n",
       "  <tbody>\n",
       "    <tr>\n",
       "      <th>0</th>\n",
       "      <td>1</td>\n",
       "      <td>60</td>\n",
       "      <td>65.0</td>\n",
       "      <td>8450</td>\n",
       "      <td>7</td>\n",
       "      <td>5</td>\n",
       "      <td>2003</td>\n",
       "      <td>2003</td>\n",
       "      <td>196.0</td>\n",
       "      <td>706</td>\n",
       "      <td>...</td>\n",
       "      <td>0</td>\n",
       "      <td>0</td>\n",
       "      <td>0</td>\n",
       "      <td>0</td>\n",
       "      <td>0</td>\n",
       "      <td>0</td>\n",
       "      <td>0</td>\n",
       "      <td>0</td>\n",
       "      <td>0</td>\n",
       "      <td>0</td>\n",
       "    </tr>\n",
       "    <tr>\n",
       "      <th>1</th>\n",
       "      <td>2</td>\n",
       "      <td>20</td>\n",
       "      <td>80.0</td>\n",
       "      <td>9600</td>\n",
       "      <td>6</td>\n",
       "      <td>8</td>\n",
       "      <td>1976</td>\n",
       "      <td>1976</td>\n",
       "      <td>0.0</td>\n",
       "      <td>978</td>\n",
       "      <td>...</td>\n",
       "      <td>0</td>\n",
       "      <td>0</td>\n",
       "      <td>0</td>\n",
       "      <td>0</td>\n",
       "      <td>0</td>\n",
       "      <td>0</td>\n",
       "      <td>0</td>\n",
       "      <td>1</td>\n",
       "      <td>0</td>\n",
       "      <td>0</td>\n",
       "    </tr>\n",
       "    <tr>\n",
       "      <th>2</th>\n",
       "      <td>3</td>\n",
       "      <td>60</td>\n",
       "      <td>68.0</td>\n",
       "      <td>11250</td>\n",
       "      <td>7</td>\n",
       "      <td>5</td>\n",
       "      <td>2001</td>\n",
       "      <td>2002</td>\n",
       "      <td>162.0</td>\n",
       "      <td>486</td>\n",
       "      <td>...</td>\n",
       "      <td>0</td>\n",
       "      <td>0</td>\n",
       "      <td>0</td>\n",
       "      <td>0</td>\n",
       "      <td>0</td>\n",
       "      <td>0</td>\n",
       "      <td>0</td>\n",
       "      <td>0</td>\n",
       "      <td>0</td>\n",
       "      <td>0</td>\n",
       "    </tr>\n",
       "    <tr>\n",
       "      <th>3</th>\n",
       "      <td>4</td>\n",
       "      <td>70</td>\n",
       "      <td>60.0</td>\n",
       "      <td>9550</td>\n",
       "      <td>7</td>\n",
       "      <td>5</td>\n",
       "      <td>1915</td>\n",
       "      <td>1970</td>\n",
       "      <td>0.0</td>\n",
       "      <td>216</td>\n",
       "      <td>...</td>\n",
       "      <td>0</td>\n",
       "      <td>0</td>\n",
       "      <td>0</td>\n",
       "      <td>0</td>\n",
       "      <td>0</td>\n",
       "      <td>0</td>\n",
       "      <td>0</td>\n",
       "      <td>0</td>\n",
       "      <td>0</td>\n",
       "      <td>0</td>\n",
       "    </tr>\n",
       "    <tr>\n",
       "      <th>4</th>\n",
       "      <td>5</td>\n",
       "      <td>60</td>\n",
       "      <td>84.0</td>\n",
       "      <td>14260</td>\n",
       "      <td>8</td>\n",
       "      <td>5</td>\n",
       "      <td>2000</td>\n",
       "      <td>2000</td>\n",
       "      <td>350.0</td>\n",
       "      <td>655</td>\n",
       "      <td>...</td>\n",
       "      <td>0</td>\n",
       "      <td>0</td>\n",
       "      <td>0</td>\n",
       "      <td>0</td>\n",
       "      <td>0</td>\n",
       "      <td>0</td>\n",
       "      <td>0</td>\n",
       "      <td>0</td>\n",
       "      <td>0</td>\n",
       "      <td>0</td>\n",
       "    </tr>\n",
       "  </tbody>\n",
       "</table>\n",
       "<p>5 rows × 393 columns</p>\n",
       "</div>"
      ],
      "text/plain": [
       "   Id  MSSubClass  LotFrontage  LotArea  OverallQual  OverallCond  YearBuilt  \\\n",
       "0   1          60         65.0     8450            7            5       2003   \n",
       "1   2          20         80.0     9600            6            8       1976   \n",
       "2   3          60         68.0    11250            7            5       2001   \n",
       "3   4          70         60.0     9550            7            5       1915   \n",
       "4   5          60         84.0    14260            8            5       2000   \n",
       "\n",
       "   YearRemodAdd  MasVnrArea  BsmtFinSF1          ...            \\\n",
       "0          2003       196.0         706          ...             \n",
       "1          1976         0.0         978          ...             \n",
       "2          2002       162.0         486          ...             \n",
       "3          1970         0.0         216          ...             \n",
       "4          2000       350.0         655          ...             \n",
       "\n",
       "   Cond_Saletype_6Normal  Cond_Saletype_6Partial  Cond_Saletype_7Abnorml  \\\n",
       "0                      0                       0                       0   \n",
       "1                      0                       0                       0   \n",
       "2                      0                       0                       0   \n",
       "3                      0                       0                       0   \n",
       "4                      0                       0                       0   \n",
       "\n",
       "   Cond_Saletype_7Alloca  Cond_Saletype_7Family  Cond_Saletype_7Normal  \\\n",
       "0                      0                      0                      0   \n",
       "1                      0                      0                      0   \n",
       "2                      0                      0                      0   \n",
       "3                      0                      0                      0   \n",
       "4                      0                      0                      0   \n",
       "\n",
       "   Cond_Saletype_8Family  Cond_Saletype_8Normal  Cond_Saletype_8Partial  \\\n",
       "0                      0                      0                       0   \n",
       "1                      0                      1                       0   \n",
       "2                      0                      0                       0   \n",
       "3                      0                      0                       0   \n",
       "4                      0                      0                       0   \n",
       "\n",
       "   Cond_Saletype_9Normal  \n",
       "0                      0  \n",
       "1                      0  \n",
       "2                      0  \n",
       "3                      0  \n",
       "4                      0  \n",
       "\n",
       "[5 rows x 393 columns]"
      ]
     },
     "execution_count": 147,
     "metadata": {},
     "output_type": "execute_result"
    }
   ],
   "source": [
    "df_2.head()"
   ]
  },
  {
   "cell_type": "code",
   "execution_count": 198,
   "metadata": {},
   "outputs": [],
   "source": [
    "from sklearn.metrics import r2_score, mean_squared_error\n",
    "def get_score(prediction, lables):    \n",
    "    print('R2: {}'.format(r2_score(prediction, lables)))\n",
    "    print('RMSE:{}'.format(np.sqrt(mean_squared_error(prediction, lables))))"
   ]
  },
  {
   "cell_type": "code",
   "execution_count": 148,
   "metadata": {},
   "outputs": [],
   "source": [
    "x=df_2.drop('SalePrice',axis=1).values\n",
    "y=df_2['SalePrice'].values"
   ]
  },
  {
   "cell_type": "code",
   "execution_count": 149,
   "metadata": {},
   "outputs": [],
   "source": [
    "from sklearn.model_selection import train_test_split\n",
    "x_train,x_test,y_train,y_test=train_test_split(x,y,test_size=0.3,random_state=26)"
   ]
  },
  {
   "cell_type": "code",
   "execution_count": 187,
   "metadata": {},
   "outputs": [],
   "source": [
    "def error_fn(j):\n",
    "    from sklearn.tree import DecisionTreeClassifier\n",
    "    \n",
    "    dt=DecisionTreeClassifier(max_features=6,random_state=j,min_samples_split=20,max_depth=j,\n",
    "                          max_leaf_nodes=j,\n",
    "                         min_impurity_decrease=0.003,)\n",
    "    dt.fit(x_train,y_train)\n",
    "    pred=dt.predict(x_test)\n",
    "    #dt.score(x_test,y_test)\n",
    "    return get_score(pred,y_test)"
   ]
  },
  {
   "cell_type": "code",
   "execution_count": 206,
   "metadata": {},
   "outputs": [
    {
     "name": "stdout",
     "output_type": "stream",
     "text": [
      "0.002531645569620253\n",
      "R2: 0.0\n",
      "RMSE:96702.33060398823\n"
     ]
    }
   ],
   "source": [
    "from sklearn.tree import DecisionTreeClassifier\n",
    "    \n",
    "dt=DecisionTreeClassifier(max_features=6,random_state=42,min_samples_split=20,max_depth=100,\n",
    "                          max_leaf_nodes=8,\n",
    "                         min_impurity_decrease=0.1,)\n",
    "dt.fit(x_train,y_train)\n",
    "pred=dt.predict(x_test)\n",
    "print(dt.score(x_test,y_test))\n",
    "get_score(pred,y_test)"
   ]
  },
  {
   "cell_type": "code",
   "execution_count": 188,
   "metadata": {},
   "outputs": [
    {
     "name": "stdout",
     "output_type": "stream",
     "text": [
      "96702.33060398823\n"
     ]
    }
   ],
   "source": [
    "error_fn(19)"
   ]
  },
  {
   "cell_type": "code",
   "execution_count": 169,
   "metadata": {},
   "outputs": [
    {
     "name": "stdout",
     "output_type": "stream",
     "text": [
      "96702.33060398823\n"
     ]
    }
   ],
   "source": [
    "get_score(pred,y_test)"
   ]
  },
  {
   "cell_type": "code",
   "execution_count": 157,
   "metadata": {},
   "outputs": [],
   "source": [
    "error_list=[]"
   ]
  },
  {
   "cell_type": "code",
   "execution_count": null,
   "metadata": {},
   "outputs": [],
   "source": [
    "j=3\n",
    "for i in range(0,10):\n",
    "    error_list.append(error_fn(j))\n",
    "    j+=1"
   ]
  },
  {
   "cell_type": "code",
   "execution_count": 153,
   "metadata": {},
   "outputs": [
    {
     "name": "stdout",
     "output_type": "stream",
     "text": [
      "R2: 0.0\n",
      "RMSE: 96702.33060398823\n"
     ]
    }
   ],
   "source": [
    "get_score(pred,y_test)"
   ]
  },
  {
   "cell_type": "code",
   "execution_count": null,
   "metadata": {},
   "outputs": [],
   "source": [
    "plt.plot(error_list)"
   ]
  },
  {
   "cell_type": "code",
   "execution_count": 207,
   "metadata": {},
   "outputs": [
    {
     "name": "stdout",
     "output_type": "stream",
     "text": [
      "[2.18127054e+01 1.04181552e+01 8.82498111e+00 7.93353076e+00\n",
      " 6.85716387e+00 6.25112600e+00 5.41277572e+00 5.21324481e+00\n",
      " 4.63279544e+00 4.60610424e+00 4.32609028e+00 4.23217274e+00\n",
      " 3.93376673e+00 3.79662904e+00 3.69179970e+00 3.64754660e+00\n",
      " 3.40729988e+00 3.31865628e+00 3.20218978e+00 3.15862546e+00\n",
      " 3.11301508e+00 3.02165625e+00 2.92502626e+00 2.90944661e+00\n",
      " 2.86258635e+00 2.82948881e+00 2.76934884e+00 2.71083081e+00\n",
      " 2.64720502e+00 2.63101770e+00 2.59961471e+00 2.57972901e+00\n",
      " 2.52891814e+00 2.46958570e+00 2.44794081e+00 2.42874685e+00\n",
      " 2.37584318e+00 2.35435713e+00 2.30429454e+00 2.27938704e+00\n",
      " 2.26437488e+00 2.23823824e+00 2.21073081e+00 2.17707660e+00\n",
      " 2.15983015e+00 2.12237400e+00 2.09332948e+00 2.07070083e+00\n",
      " 2.04527714e+00 2.02698383e+00 1.99088941e+00 1.97022811e+00\n",
      " 1.95488716e+00 1.93990979e+00 1.92968995e+00 1.90572648e+00\n",
      " 1.86810148e+00 1.86062888e+00 1.84496798e+00 1.82437159e+00\n",
      " 1.80340145e+00 1.78154742e+00 1.75782091e+00 1.74377688e+00\n",
      " 1.72524867e+00 1.69796624e+00 1.68649422e+00 1.66810692e+00\n",
      " 1.63997738e+00 1.62992953e+00 1.61164704e+00 1.60291405e+00\n",
      " 1.59209325e+00 1.58426798e+00 1.57162119e+00 1.55105962e+00\n",
      " 1.54691485e+00 1.53215605e+00 1.52305774e+00 1.50356365e+00\n",
      " 1.49596994e+00 1.49084542e+00 1.46050539e+00 1.44926529e+00\n",
      " 1.44448605e+00 1.42899701e+00 1.42556218e+00 1.41653599e+00\n",
      " 1.40069194e+00 1.38841109e+00 1.37251236e+00 1.36734144e+00\n",
      " 1.36452795e+00 1.35764560e+00 1.33090503e+00 1.32133847e+00\n",
      " 1.30891222e+00 1.30556151e+00 1.29045501e+00 1.28333971e+00\n",
      " 1.27784896e+00 1.26991962e+00 1.25977967e+00 1.24230867e+00\n",
      " 1.23708611e+00 1.22569871e+00 1.22333864e+00 1.21304948e+00\n",
      " 1.20840118e+00 1.19633015e+00 1.18733842e+00 1.18060349e+00\n",
      " 1.16691273e+00 1.16400026e+00 1.15505194e+00 1.14164195e+00\n",
      " 1.13277369e+00 1.12968352e+00 1.11556410e+00 1.11443700e+00\n",
      " 1.10346921e+00 1.10266704e+00 1.08804595e+00 1.08520499e+00\n",
      " 1.07749898e+00 1.06224849e+00 1.05406838e+00 1.04821088e+00\n",
      " 1.04330215e+00 1.03923038e+00 1.03037066e+00 1.02251148e+00\n",
      " 1.01119841e+00 1.00943691e+00 9.97067467e-01 9.92537770e-01\n",
      " 9.85967305e-01 9.73239654e-01 9.70035190e-01 9.63066744e-01\n",
      " 9.58384494e-01 9.53810938e-01 9.41207549e-01 9.39848154e-01\n",
      " 9.25639885e-01 9.13003359e-01 9.12503416e-01 9.04931353e-01\n",
      " 9.02285533e-01 8.95568762e-01 8.93928606e-01 8.88591140e-01\n",
      " 8.86698998e-01 8.81182335e-01 8.70385502e-01 8.58028501e-01\n",
      " 8.50690759e-01 8.46343735e-01 8.34616930e-01 8.31878344e-01\n",
      " 8.26113534e-01 8.18658786e-01 8.08454429e-01 8.04766991e-01\n",
      " 7.97381358e-01 7.89904293e-01 7.85000094e-01 7.76181074e-01\n",
      " 7.73011511e-01 7.66655616e-01 7.55025475e-01 7.48185705e-01\n",
      " 7.43996452e-01 7.43088114e-01 7.33154106e-01 7.28956255e-01\n",
      " 7.21152642e-01 7.16656884e-01 7.11442180e-01 7.09008507e-01\n",
      " 7.00359578e-01 6.94496884e-01 6.86959126e-01 6.83217418e-01\n",
      " 6.74969253e-01 6.72147165e-01 6.58495815e-01 6.56061392e-01\n",
      " 6.50816027e-01 6.44017378e-01 6.40251422e-01 6.32947304e-01\n",
      " 6.27810959e-01 6.13714144e-01 6.09476827e-01 6.02413741e-01\n",
      " 5.96931243e-01 5.90799595e-01 5.89298351e-01 5.74111259e-01\n",
      " 5.70203198e-01 5.66699589e-01 5.51377027e-01 5.49816666e-01\n",
      " 5.47530879e-01 5.40006363e-01 5.29447028e-01 5.24709590e-01\n",
      " 5.18327040e-01 5.14460048e-01 5.04444217e-01 4.91782517e-01\n",
      " 4.91009364e-01 4.85687742e-01 4.83369234e-01 4.80449477e-01\n",
      " 4.75077826e-01 4.65954354e-01 4.62860871e-01 4.57613322e-01\n",
      " 4.52927160e-01 4.50824462e-01 4.45585641e-01 4.34089457e-01\n",
      " 4.29382072e-01 4.25979769e-01 4.20577940e-01 4.16420204e-01\n",
      " 4.06553209e-01 4.02303037e-01 3.96362278e-01 3.89800675e-01\n",
      " 3.87580717e-01 3.77641366e-01 3.74680943e-01 3.68278893e-01\n",
      " 3.64531014e-01 3.56770095e-01 3.53857191e-01 3.51148160e-01\n",
      " 3.41082664e-01 3.38059118e-01 3.35862384e-01 3.31443533e-01\n",
      " 3.23238058e-01 3.18633895e-01 3.17741908e-01 3.15371262e-01\n",
      " 3.09102329e-01 3.01315305e-01 2.92123729e-01 2.88651915e-01\n",
      " 2.80506391e-01 2.76671355e-01 2.69539662e-01 2.64621550e-01\n",
      " 2.63404337e-01 2.59753012e-01 2.51799383e-01 2.48215637e-01\n",
      " 2.39639517e-01 2.35642293e-01 2.26145980e-01 2.20169548e-01\n",
      " 2.17315174e-01 2.10850835e-01 2.06214588e-01 1.99784477e-01\n",
      " 1.90030939e-01 1.87274993e-01 1.86042352e-01 1.81183980e-01\n",
      " 1.68267190e-01 1.63035933e-01 1.54494125e-01 1.48922660e-01\n",
      " 1.44013662e-01 1.40709138e-01 1.31517989e-01 1.21304971e-01\n",
      " 1.16323832e-01 1.13661939e-01 1.08396362e-01 1.04450939e-01\n",
      " 9.85509898e-02 9.22963178e-02 8.76200225e-02 8.55316834e-02\n",
      " 7.92452182e-02 7.44274798e-02 6.99682201e-02 6.48835073e-02\n",
      " 6.18038595e-02 5.61371520e-02 5.42992323e-02 4.66421219e-02\n",
      " 4.41968775e-02 4.37999649e-02 3.77448835e-02 3.58903750e-02\n",
      " 2.70404407e-02 2.55647488e-02 1.92459906e-02 1.53894583e-02\n",
      " 1.43904982e-02 1.36939083e-02 1.18834678e-02 1.13639114e-02\n",
      " 2.11131922e-04 4.30179762e-30 1.43000826e-30 9.20046854e-31\n",
      " 9.13686853e-31 8.52836664e-31 8.02597105e-31 7.30540181e-31\n",
      " 7.14361954e-31 6.88870270e-31 6.42285889e-31 5.99460455e-31\n",
      " 5.88852016e-31 5.75713134e-31 5.58622343e-31 4.88714667e-31\n",
      " 4.39650232e-31 4.30265635e-31 4.25425733e-31 4.23337097e-31\n",
      " 3.99862689e-31 3.66185926e-31 3.38267770e-31 3.04420278e-31\n",
      " 3.01693688e-31 2.97757433e-31 2.92217730e-31 2.91493327e-31\n",
      " 2.51141681e-31 2.25485362e-31 2.10167867e-31 2.09226270e-31\n",
      " 2.05088038e-31 1.97291551e-31 1.59903410e-31 1.16186874e-31\n",
      " 1.11349383e-31 1.09396561e-31 1.01345571e-31 1.01345571e-31\n",
      " 1.01345571e-31 1.01345571e-31 1.01345571e-31 1.01345571e-31\n",
      " 1.01345571e-31 1.01345571e-31 1.01345571e-31 1.01345571e-31\n",
      " 1.01345571e-31 1.01345571e-31 1.01345571e-31 1.01345571e-31\n",
      " 1.01345571e-31 1.01345571e-31 1.01345571e-31 1.01345571e-31\n",
      " 1.01345571e-31 1.01345571e-31 1.01345571e-31 1.01345571e-31\n",
      " 1.01345571e-31 1.01345571e-31 1.01345571e-31 1.01345571e-31\n",
      " 1.01345571e-31 1.01345571e-31 1.01345571e-31 1.01345571e-31\n",
      " 1.01345571e-31 1.01345571e-31 1.01345571e-31 1.01345571e-31\n",
      " 6.82628095e-32 5.65088945e-32 4.84724109e-32 4.09087640e-32\n",
      " 4.03425221e-32 3.37392923e-32 2.63383185e-32 1.68158044e-32\n",
      " 1.44234858e-32 1.20259679e-32 3.13686267e-33 5.65150135e-34]\n"
     ]
    },
    {
     "data": {
      "image/png": "[encoded data removed]",
      "text/plain": [
       "<matplotlib.figure.Figure at 0x26b32cd84e0>"
      ]
     },
     "metadata": {},
     "output_type": "display_data"
    }
   ],
   "source": [
    "from sklearn.decomposition import PCA\n",
    "from sklearn.preprocessing import StandardScaler\n",
    "scaler=StandardScaler()\n",
    "model=PCA()\n",
    "data_df=scaler.fit_transform(x)\n",
    "transformed=model.fit_transform(data_df)\n",
    "variances=model.explained_variance_\n",
    "print(variances)\n",
    "features=range(len(variances))\n",
    "plt.bar(features,variances)\n",
    "plt.xlabel('features')\n",
    "plt.ylabel('Variance')\n",
    "plt.xticks(features)\n",
    "plt.title('Variance of Features')\n",
    "plt.show()"
   ]
  },
  {
   "cell_type": "code",
   "execution_count": null,
   "metadata": {},
   "outputs": [],
   "source": []
  }
 ],
 "metadata": {
  "kernelspec": {
   "display_name": "Python 3",
   "language": "python",
   "name": "python3"
  },
  "language_info": {
   "codemirror_mode": {
    "name": "ipython",
    "version": 3
   },
   "file_extension": ".py",
   "mimetype": "text/x-python",
   "name": "python",
   "nbconvert_exporter": "python",
   "pygments_lexer": "ipython3",
   "version": "3.6.4"
  }
 },
 "nbformat": 4,
 "nbformat_minor": 2
}
