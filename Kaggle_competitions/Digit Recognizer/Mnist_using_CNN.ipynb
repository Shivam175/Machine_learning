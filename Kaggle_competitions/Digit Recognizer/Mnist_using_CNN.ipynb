{
  "nbformat": 4,
  "nbformat_minor": 0,
  "metadata": {
    "colab": {
      "name": "Mnist using CNN.ipynb",
      "provenance": [],
      "collapsed_sections": []
    },
    "kernelspec": {
      "name": "python3",
      "display_name": "Python 3"
    },
    "accelerator": "GPU"
  },
  "cells": [
    {
      "cell_type": "code",
      "metadata": {
        "id": "hv7UQLhNI4GN",
        "colab_type": "code",
        "outputId": "91f351a7-6898-41c2-acea-53700594a8ed",
        "colab": {
          "base_uri": "https://localhost:8080/",
          "height": 104
        }
      },
      "source": [
        "from keras.datasets import mnist\n",
        "(x_train,y_train),(x_test,y_test)=mnist.load_data()\n",
        "print('x_train'+'='+ str(len(x_train)))\n",
        "len(x_test)\n"
      ],
      "execution_count": 0,
      "outputs": [
        {
          "output_type": "stream",
          "text": [
            "Using TensorFlow backend.\n"
          ],
          "name": "stderr"
        },
        {
          "output_type": "stream",
          "text": [
            "Downloading data from https://s3.amazonaws.com/img-datasets/mnist.npz\n",
            "11493376/11490434 [==============================] - 3s 0us/step\n",
            "x_train=60000\n"
          ],
          "name": "stdout"
        },
        {
          "output_type": "execute_result",
          "data": {
            "text/plain": [
              "10000"
            ]
          },
          "metadata": {
            "tags": []
          },
          "execution_count": 4
        }
      ]
    },
    {
      "cell_type": "code",
      "metadata": {
        "id": "MT5OnkJCJefa",
        "colab_type": "code",
        "colab": {}
      },
      "source": [
        "x_train=x_train.astype('float32')/225\n",
        "x_test=x_test.astype('float32')/225"
      ],
      "execution_count": 0,
      "outputs": []
    },
    {
      "cell_type": "code",
      "metadata": {
        "id": "SCljqdJENJGI",
        "colab_type": "code",
        "outputId": "8d2da207-79ef-449e-c699-54d0325095b9",
        "colab": {
          "base_uri": "https://localhost:8080/",
          "height": 208
        }
      },
      "source": [
        "from keras.utils import np_utils\n",
        "print(y_train[:10])\n",
        "y_train=np_utils.to_categorical(y_train,10)\n",
        "y_test=np_utils.to_categorical(y_test,10)\n",
        "print(y_train[:10])"
      ],
      "execution_count": 0,
      "outputs": [
        {
          "output_type": "stream",
          "text": [
            "[5 0 4 1 9 2 1 3 1 4]\n",
            "[[0. 0. 0. 0. 0. 1. 0. 0. 0. 0.]\n",
            " [1. 0. 0. 0. 0. 0. 0. 0. 0. 0.]\n",
            " [0. 0. 0. 0. 1. 0. 0. 0. 0. 0.]\n",
            " [0. 1. 0. 0. 0. 0. 0. 0. 0. 0.]\n",
            " [0. 0. 0. 0. 0. 0. 0. 0. 0. 1.]\n",
            " [0. 0. 1. 0. 0. 0. 0. 0. 0. 0.]\n",
            " [0. 1. 0. 0. 0. 0. 0. 0. 0. 0.]\n",
            " [0. 0. 0. 1. 0. 0. 0. 0. 0. 0.]\n",
            " [0. 1. 0. 0. 0. 0. 0. 0. 0. 0.]\n",
            " [0. 0. 0. 0. 1. 0. 0. 0. 0. 0.]]\n"
          ],
          "name": "stdout"
        }
      ]
    },
    {
      "cell_type": "code",
      "metadata": {
        "id": "kwCiWedNNy6N",
        "colab_type": "code",
        "outputId": "42db7a05-4068-4a61-f158-9af52195784e",
        "colab": {
          "base_uri": "https://localhost:8080/",
          "height": 87
        }
      },
      "source": [
        "# break training set into training and validation sets\n",
        "(x_train, x_valid) = x_train[6000:], x_train[:6000]\n",
        "(y_train, y_valid) = y_train[6000:], y_train[:6000]\n",
        "\n",
        "# print shape of training set\n",
        "print('x_train shape:', x_train.shape)\n",
        "\n",
        "# print number of training, validation, and test images\n",
        "print(x_train.shape[0], 'train samples')\n",
        "print(x_test.shape[0], 'test samples')\n",
        "print(x_valid.shape[0], 'validation samples')"
      ],
      "execution_count": 0,
      "outputs": [
        {
          "output_type": "stream",
          "text": [
            "x_train shape: (54000, 28, 28)\n",
            "54000 train samples\n",
            "10000 test samples\n",
            "6000 validation samples\n"
          ],
          "name": "stdout"
        }
      ]
    },
    {
      "cell_type": "code",
      "metadata": {
        "id": "y5yj7TFUlIHW",
        "colab_type": "code",
        "outputId": "bd0c7a94-9a43-4dad-fadb-e7efdfea7622",
        "colab": {
          "base_uri": "https://localhost:8080/",
          "height": 35
        }
      },
      "source": [
        "x_valid.shape\n"
      ],
      "execution_count": 0,
      "outputs": [
        {
          "output_type": "execute_result",
          "data": {
            "text/plain": [
              "(6000, 28, 28)"
            ]
          },
          "metadata": {
            "tags": []
          },
          "execution_count": 8
        }
      ]
    },
    {
      "cell_type": "code",
      "metadata": {
        "id": "tsIFPS6GlIJn",
        "colab_type": "code",
        "colab": {}
      },
      "source": [
        "x_train=x_train.reshape((-1,28,28,1))\n",
        "#y_train=y_train.reshape((-1,54000,10))\n",
        "x_test=x_test.reshape((-1,28,28,1))\n",
        "#y_test=y_test.reshape((-1,10000,10))\n",
        "x_valid=x_valid.reshape((-1,28,28,1))\n",
        "#y_valid=y_valid.reshape((-1,6000,10))"
      ],
      "execution_count": 0,
      "outputs": []
    },
    {
      "cell_type": "code",
      "metadata": {
        "id": "BkALl2BylIMO",
        "colab_type": "code",
        "colab": {}
      },
      "source": [
        "import pandas as pd\n",
        "from google.colab import files\n"
      ],
      "execution_count": 0,
      "outputs": []
    },
    {
      "cell_type": "code",
      "metadata": {
        "id": "NqilJMUhucQM",
        "colab_type": "code",
        "outputId": "ed1dd78f-90f1-48da-fadb-e0a93ec92ab3",
        "colab": {
          "base_uri": "https://localhost:8080/",
          "height": 367
        }
      },
      "source": [
        "! pip install kaggle"
      ],
      "execution_count": 0,
      "outputs": [
        {
          "output_type": "stream",
          "text": [
            "Collecting kaggle\n",
            "\u001b[?25l  Downloading https://files.pythonhosted.org/packages/5c/09/24c3f5d332c3ca2f74914566da4c737d59d8eec752e2a6db584344fa9519/kaggle-1.4.5.tar.gz (46kB)\n",
            "\u001b[K    100% |████████████████████████████████| 51kB 4.0MB/s \n",
            "\u001b[?25hRequirement already satisfied: urllib3<1.23.0,>=1.15 in /usr/local/lib/python3.6/dist-packages (from kaggle) (1.22)\n",
            "Requirement already satisfied: six>=1.10 in /usr/local/lib/python3.6/dist-packages (from kaggle) (1.11.0)\n",
            "Requirement already satisfied: certifi in /usr/local/lib/python3.6/dist-packages (from kaggle) (2018.4.16)\n",
            "Requirement already satisfied: python-dateutil in /usr/local/lib/python3.6/dist-packages (from kaggle) (2.5.3)\n",
            "Requirement already satisfied: requests in /usr/local/lib/python3.6/dist-packages (from kaggle) (2.18.4)\n",
            "Collecting tqdm (from kaggle)\n",
            "\u001b[?25l  Downloading https://files.pythonhosted.org/packages/7d/e6/19dfaff08fcbee7f3453e5b537e65a8364f1945f921a36d08be1e2ff3475/tqdm-4.24.0-py2.py3-none-any.whl (43kB)\n",
            "\u001b[K    100% |████████████████████████████████| 51kB 19.6MB/s \n",
            "\u001b[?25hRequirement already satisfied: idna<2.7,>=2.5 in /usr/local/lib/python3.6/dist-packages (from requests->kaggle) (2.6)\n",
            "Requirement already satisfied: chardet<3.1.0,>=3.0.2 in /usr/local/lib/python3.6/dist-packages (from requests->kaggle) (3.0.4)\n",
            "Building wheels for collected packages: kaggle\n",
            "  Running setup.py bdist_wheel for kaggle ... \u001b[?25l-\b \b\\\b \bdone\n",
            "\u001b[?25h  Stored in directory: /content/.cache/pip/wheels/40/3a/1a/030a08ebef5e1aef1ee6f0fd2b70666a9363f48d4bb6f7c4b4\n",
            "Successfully built kaggle\n",
            "Installing collected packages: tqdm, kaggle\n",
            "Successfully installed kaggle-1.4.5 tqdm-4.24.0\n"
          ],
          "name": "stdout"
        }
      ]
    },
    {
      "cell_type": "code",
      "metadata": {
        "id": "xa9azhZUucSt",
        "colab_type": "code",
        "outputId": "bff32152-107b-4875-8206-c9bf4f018c7a",
        "colab": {
          "base_uri": "https://localhost:8080/",
          "height": 35
        }
      },
      "source": [
        "!ls -a"
      ],
      "execution_count": 0,
      "outputs": [
        {
          "output_type": "stream",
          "text": [
            ".  ..  .cache  .config\tdatalab  .forever  .ipython  .keras  .local\r\n"
          ],
          "name": "stdout"
        }
      ]
    },
    {
      "cell_type": "code",
      "metadata": {
        "id": "r1oqGB-YucVZ",
        "colab_type": "code",
        "colab": {}
      },
      "source": [
        "!mkdir .kaggle"
      ],
      "execution_count": 0,
      "outputs": []
    },
    {
      "cell_type": "code",
      "metadata": {
        "id": "xyiStzV4ucX8",
        "colab_type": "code",
        "colab": {}
      },
      "source": [
        "import json\n",
        "token ={\"username\":\"shiva2251\",\"key\":\"1bab1b8c61c8fea8169be8aae72f3642\"}\n",
        "with open('/content/.kaggle/kaggle.json', 'w') as file:\n",
        "    json.dump(token, file)"
      ],
      "execution_count": 0,
      "outputs": []
    },
    {
      "cell_type": "code",
      "metadata": {
        "id": "FkyjYwTHucbQ",
        "colab_type": "code",
        "colab": {}
      },
      "source": [
        "!chmod 600 /content/.kaggle/kaggle.json"
      ],
      "execution_count": 0,
      "outputs": []
    },
    {
      "cell_type": "code",
      "metadata": {
        "id": "NATbYZl1vYnf",
        "colab_type": "code",
        "outputId": "45a3169c-d516-4936-a439-a8aa510d7056",
        "colab": {
          "base_uri": "https://localhost:8080/",
          "height": 35
        }
      },
      "source": [
        "!kaggle config set -n path -v{/content}"
      ],
      "execution_count": 0,
      "outputs": [
        {
          "output_type": "stream",
          "text": [
            "path is now set to: {/content}\r\n"
          ],
          "name": "stdout"
        }
      ]
    },
    {
      "cell_type": "code",
      "metadata": {
        "id": "ogVhjZBUvYsi",
        "colab_type": "code",
        "outputId": "d9cba547-7781-4358-995b-6b2f9497be01",
        "colab": {
          "base_uri": "https://localhost:8080/",
          "height": 173
        }
      },
      "source": [
        "!kaggle competitions download -c digit-recognizer -p/content"
      ],
      "execution_count": 0,
      "outputs": [
        {
          "output_type": "stream",
          "text": [
            "Downloading train.csv to /content\n",
            " 83%|███████████████████████████████▋      | 61.0M/73.2M [00:00<00:00, 53.4MB/s]\n",
            "100%|███████████████████████████████████████| 73.2M/73.2M [00:00<00:00, 104MB/s]\n",
            "Downloading test.csv to /content\n",
            " 98%|█████████████████████████████████████▍| 48.0M/48.8M [00:00<00:00, 76.3MB/s]\n",
            "100%|███████████████████████████████████████| 48.8M/48.8M [00:00<00:00, 127MB/s]\n",
            "Downloading sample_submission.csv to /content\n",
            "  0%|                                                | 0.00/235k [00:00<?, ?B/s]\n",
            "100%|█████████████████████████████████████████| 235k/235k [00:00<00:00, 140MB/s]\n"
          ],
          "name": "stdout"
        }
      ]
    },
    {
      "cell_type": "code",
      "metadata": {
        "id": "nQV-LXL5vYxb",
        "colab_type": "code",
        "outputId": "223dcb26-2949-43d5-e204-bedbc453f168",
        "colab": {
          "base_uri": "https://localhost:8080/",
          "height": 251
        }
      },
      "source": [
        "import pandas as pd\n",
        "df = pd.read_csv('test.csv')\n",
        "df.head()"
      ],
      "execution_count": 0,
      "outputs": [
        {
          "output_type": "execute_result",
          "data": {
            "text/html": [
              "<div>\n",
              "<style scoped>\n",
              "    .dataframe tbody tr th:only-of-type {\n",
              "        vertical-align: middle;\n",
              "    }\n",
              "\n",
              "    .dataframe tbody tr th {\n",
              "        vertical-align: top;\n",
              "    }\n",
              "\n",
              "    .dataframe thead th {\n",
              "        text-align: right;\n",
              "    }\n",
              "</style>\n",
              "<table border=\"1\" class=\"dataframe\">\n",
              "  <thead>\n",
              "    <tr style=\"text-align: right;\">\n",
              "      <th></th>\n",
              "      <th>pixel0</th>\n",
              "      <th>pixel1</th>\n",
              "      <th>pixel2</th>\n",
              "      <th>pixel3</th>\n",
              "      <th>pixel4</th>\n",
              "      <th>pixel5</th>\n",
              "      <th>pixel6</th>\n",
              "      <th>pixel7</th>\n",
              "      <th>pixel8</th>\n",
              "      <th>pixel9</th>\n",
              "      <th>...</th>\n",
              "      <th>pixel774</th>\n",
              "      <th>pixel775</th>\n",
              "      <th>pixel776</th>\n",
              "      <th>pixel777</th>\n",
              "      <th>pixel778</th>\n",
              "      <th>pixel779</th>\n",
              "      <th>pixel780</th>\n",
              "      <th>pixel781</th>\n",
              "      <th>pixel782</th>\n",
              "      <th>pixel783</th>\n",
              "    </tr>\n",
              "  </thead>\n",
              "  <tbody>\n",
              "    <tr>\n",
              "      <th>0</th>\n",
              "      <td>0</td>\n",
              "      <td>0</td>\n",
              "      <td>0</td>\n",
              "      <td>0</td>\n",
              "      <td>0</td>\n",
              "      <td>0</td>\n",
              "      <td>0</td>\n",
              "      <td>0</td>\n",
              "      <td>0</td>\n",
              "      <td>0</td>\n",
              "      <td>...</td>\n",
              "      <td>0</td>\n",
              "      <td>0</td>\n",
              "      <td>0</td>\n",
              "      <td>0</td>\n",
              "      <td>0</td>\n",
              "      <td>0</td>\n",
              "      <td>0</td>\n",
              "      <td>0</td>\n",
              "      <td>0</td>\n",
              "      <td>0</td>\n",
              "    </tr>\n",
              "    <tr>\n",
              "      <th>1</th>\n",
              "      <td>0</td>\n",
              "      <td>0</td>\n",
              "      <td>0</td>\n",
              "      <td>0</td>\n",
              "      <td>0</td>\n",
              "      <td>0</td>\n",
              "      <td>0</td>\n",
              "      <td>0</td>\n",
              "      <td>0</td>\n",
              "      <td>0</td>\n",
              "      <td>...</td>\n",
              "      <td>0</td>\n",
              "      <td>0</td>\n",
              "      <td>0</td>\n",
              "      <td>0</td>\n",
              "      <td>0</td>\n",
              "      <td>0</td>\n",
              "      <td>0</td>\n",
              "      <td>0</td>\n",
              "      <td>0</td>\n",
              "      <td>0</td>\n",
              "    </tr>\n",
              "    <tr>\n",
              "      <th>2</th>\n",
              "      <td>0</td>\n",
              "      <td>0</td>\n",
              "      <td>0</td>\n",
              "      <td>0</td>\n",
              "      <td>0</td>\n",
              "      <td>0</td>\n",
              "      <td>0</td>\n",
              "      <td>0</td>\n",
              "      <td>0</td>\n",
              "      <td>0</td>\n",
              "      <td>...</td>\n",
              "      <td>0</td>\n",
              "      <td>0</td>\n",
              "      <td>0</td>\n",
              "      <td>0</td>\n",
              "      <td>0</td>\n",
              "      <td>0</td>\n",
              "      <td>0</td>\n",
              "      <td>0</td>\n",
              "      <td>0</td>\n",
              "      <td>0</td>\n",
              "    </tr>\n",
              "    <tr>\n",
              "      <th>3</th>\n",
              "      <td>0</td>\n",
              "      <td>0</td>\n",
              "      <td>0</td>\n",
              "      <td>0</td>\n",
              "      <td>0</td>\n",
              "      <td>0</td>\n",
              "      <td>0</td>\n",
              "      <td>0</td>\n",
              "      <td>0</td>\n",
              "      <td>0</td>\n",
              "      <td>...</td>\n",
              "      <td>0</td>\n",
              "      <td>0</td>\n",
              "      <td>0</td>\n",
              "      <td>0</td>\n",
              "      <td>0</td>\n",
              "      <td>0</td>\n",
              "      <td>0</td>\n",
              "      <td>0</td>\n",
              "      <td>0</td>\n",
              "      <td>0</td>\n",
              "    </tr>\n",
              "    <tr>\n",
              "      <th>4</th>\n",
              "      <td>0</td>\n",
              "      <td>0</td>\n",
              "      <td>0</td>\n",
              "      <td>0</td>\n",
              "      <td>0</td>\n",
              "      <td>0</td>\n",
              "      <td>0</td>\n",
              "      <td>0</td>\n",
              "      <td>0</td>\n",
              "      <td>0</td>\n",
              "      <td>...</td>\n",
              "      <td>0</td>\n",
              "      <td>0</td>\n",
              "      <td>0</td>\n",
              "      <td>0</td>\n",
              "      <td>0</td>\n",
              "      <td>0</td>\n",
              "      <td>0</td>\n",
              "      <td>0</td>\n",
              "      <td>0</td>\n",
              "      <td>0</td>\n",
              "    </tr>\n",
              "  </tbody>\n",
              "</table>\n",
              "<p>5 rows × 784 columns</p>\n",
              "</div>"
            ],
            "text/plain": [
              "   pixel0  pixel1  pixel2  pixel3  pixel4  pixel5  pixel6  pixel7  pixel8  \\\n",
              "0       0       0       0       0       0       0       0       0       0   \n",
              "1       0       0       0       0       0       0       0       0       0   \n",
              "2       0       0       0       0       0       0       0       0       0   \n",
              "3       0       0       0       0       0       0       0       0       0   \n",
              "4       0       0       0       0       0       0       0       0       0   \n",
              "\n",
              "   pixel9    ...     pixel774  pixel775  pixel776  pixel777  pixel778  \\\n",
              "0       0    ...            0         0         0         0         0   \n",
              "1       0    ...            0         0         0         0         0   \n",
              "2       0    ...            0         0         0         0         0   \n",
              "3       0    ...            0         0         0         0         0   \n",
              "4       0    ...            0         0         0         0         0   \n",
              "\n",
              "   pixel779  pixel780  pixel781  pixel782  pixel783  \n",
              "0         0         0         0         0         0  \n",
              "1         0         0         0         0         0  \n",
              "2         0         0         0         0         0  \n",
              "3         0         0         0         0         0  \n",
              "4         0         0         0         0         0  \n",
              "\n",
              "[5 rows x 784 columns]"
            ]
          },
          "metadata": {
            "tags": []
          },
          "execution_count": 18
        }
      ]
    },
    {
      "cell_type": "code",
      "metadata": {
        "id": "JkhZ_tnavY0g",
        "colab_type": "code",
        "outputId": "a7ba496d-9cf3-40cd-d8cc-99652b745779",
        "colab": {
          "base_uri": "https://localhost:8080/",
          "height": 139
        }
      },
      "source": [
        "dff=df.values.astype('float32')/255\n",
        "dff"
      ],
      "execution_count": 0,
      "outputs": [
        {
          "output_type": "execute_result",
          "data": {
            "text/plain": [
              "array([[0., 0., 0., ..., 0., 0., 0.],\n",
              "       [0., 0., 0., ..., 0., 0., 0.],\n",
              "       [0., 0., 0., ..., 0., 0., 0.],\n",
              "       ...,\n",
              "       [0., 0., 0., ..., 0., 0., 0.],\n",
              "       [0., 0., 0., ..., 0., 0., 0.],\n",
              "       [0., 0., 0., ..., 0., 0., 0.]], dtype=float32)"
            ]
          },
          "metadata": {
            "tags": []
          },
          "execution_count": 19
        }
      ]
    },
    {
      "cell_type": "code",
      "metadata": {
        "id": "q-GE_9XjvY3n",
        "colab_type": "code",
        "outputId": "2f26bbef-d2e9-4acb-d91d-be9481999e0e",
        "colab": {
          "base_uri": "https://localhost:8080/",
          "height": 35
        }
      },
      "source": [
        "\n",
        "dff= dff.reshape(28000,28,28)\n",
        "dff.shape"
      ],
      "execution_count": 0,
      "outputs": [
        {
          "output_type": "execute_result",
          "data": {
            "text/plain": [
              "(28000, 28, 28)"
            ]
          },
          "metadata": {
            "tags": []
          },
          "execution_count": 20
        }
      ]
    },
    {
      "cell_type": "code",
      "metadata": {
        "id": "jvstbxPgvYv4",
        "colab_type": "code",
        "outputId": "df55e194-0eb8-4f94-b9fa-48ea081315b1",
        "colab": {
          "base_uri": "https://localhost:8080/",
          "height": 35
        }
      },
      "source": [
        "dff=dff.reshape(-1,28,28,1)\n",
        "dff.shape"
      ],
      "execution_count": 0,
      "outputs": [
        {
          "output_type": "execute_result",
          "data": {
            "text/plain": [
              "(28000, 28, 28, 1)"
            ]
          },
          "metadata": {
            "tags": []
          },
          "execution_count": 21
        }
      ]
    },
    {
      "cell_type": "code",
      "metadata": {
        "id": "5EYblK5AvYrL",
        "colab_type": "code",
        "colab": {}
      },
      "source": [
        ""
      ],
      "execution_count": 0,
      "outputs": []
    },
    {
      "cell_type": "code",
      "metadata": {
        "id": "_xaTfD8JvYl_",
        "colab_type": "code",
        "colab": {}
      },
      "source": [
        ""
      ],
      "execution_count": 0,
      "outputs": []
    },
    {
      "cell_type": "code",
      "metadata": {
        "id": "mYdacw_MPxUD",
        "colab_type": "code",
        "outputId": "6dcd207c-79f5-4814-b822-7de1ad39a067",
        "colab": {
          "base_uri": "https://localhost:8080/",
          "height": 1352
        }
      },
      "source": [
        "from keras.models import Sequential\n",
        "from keras.layers import Conv2D, MaxPooling2D, Flatten, Dense, Dropout\n",
        "model=Sequential()\n",
        "model.add(Conv2D(filters=16,kernel_size=(2,2),padding='same',activation='relu',\n",
        "                 input_shape=(28,28,1)))\n",
        "model.add(MaxPooling2D(pool_size=2))\n",
        "model.add(Conv2D(filters=30,kernel_size=2,padding='same',activation='relu'))\n",
        "model.add(MaxPooling2D(pool_size=2))\n",
        "model.add(Conv2D(filters=50,kernel_size=2,padding='same',activation='relu'))\n",
        "model.add(MaxPooling2D(pool_size=2))\n",
        "model.add(Dropout(0.3))\n",
        "model.add(Flatten())\n",
        "model.add(Dense(500,activation='relu'))\n",
        "model.add(Dropout(0.35))\n",
        "model.add(Dense(500,activation='relu'))\n",
        "model.add(Dropout(0.3))\n",
        "model.add(Dense(500,activation='relu'))\n",
        "model.add(Dropout(0.3))\n",
        "model.add(Dense(500,activation='relu'))\n",
        "model.add(Dropout(0.3))\n",
        "model.add(Dense(500,activation='relu'))\n",
        "model.add(Dropout(0.3))\n",
        "model.add(Dense(500,activation='relu'))\n",
        "model.add(Dropout(0.3))\n",
        "model.add(Dense(500,activation='relu'))\n",
        "model.add(Dropout(0.3))\n",
        "model.add(Dense(500,activation='relu'))\n",
        "model.add(Dropout(0.3))\n",
        "model.add(Dense(500,activation='relu'))\n",
        "model.add(Dropout(0.3))\n",
        "model.add(Dense(500,activation='relu'))\n",
        "model.add(Dropout(0.3))\n",
        "model.add(Dense(500,activation='relu'))\n",
        "model.add(Dropout(0.3))\n",
        "model.add(Dense(500,activation='relu'))\n",
        "model.add(Dropout(0.3))\n",
        "model.add(Dense(500,activation='relu'))\n",
        "model.add(Dropout(0.3))\n",
        "model.add(Dense(10,activation='softmax'))\n",
        "          \n",
        "          \n",
        "model.summary()"
      ],
      "execution_count": 0,
      "outputs": [
        {
          "output_type": "stream",
          "text": [
            "_________________________________________________________________\n",
            "Layer (type)                 Output Shape              Param #   \n",
            "=================================================================\n",
            "conv2d_12 (Conv2D)           (None, 28, 28, 16)        80        \n",
            "_________________________________________________________________\n",
            "max_pooling2d_12 (MaxPooling (None, 14, 14, 16)        0         \n",
            "_________________________________________________________________\n",
            "conv2d_13 (Conv2D)           (None, 14, 14, 30)        1950      \n",
            "_________________________________________________________________\n",
            "max_pooling2d_13 (MaxPooling (None, 7, 7, 30)          0         \n",
            "_________________________________________________________________\n",
            "conv2d_14 (Conv2D)           (None, 7, 7, 50)          6050      \n",
            "_________________________________________________________________\n",
            "max_pooling2d_14 (MaxPooling (None, 3, 3, 50)          0         \n",
            "_________________________________________________________________\n",
            "dropout_8 (Dropout)          (None, 3, 3, 50)          0         \n",
            "_________________________________________________________________\n",
            "flatten_3 (Flatten)          (None, 450)               0         \n",
            "_________________________________________________________________\n",
            "dense_8 (Dense)              (None, 500)               225500    \n",
            "_________________________________________________________________\n",
            "dropout_9 (Dropout)          (None, 500)               0         \n",
            "_________________________________________________________________\n",
            "dense_9 (Dense)              (None, 500)               250500    \n",
            "_________________________________________________________________\n",
            "dropout_10 (Dropout)         (None, 500)               0         \n",
            "_________________________________________________________________\n",
            "dense_10 (Dense)             (None, 500)               250500    \n",
            "_________________________________________________________________\n",
            "dropout_11 (Dropout)         (None, 500)               0         \n",
            "_________________________________________________________________\n",
            "dense_11 (Dense)             (None, 500)               250500    \n",
            "_________________________________________________________________\n",
            "dropout_12 (Dropout)         (None, 500)               0         \n",
            "_________________________________________________________________\n",
            "dense_12 (Dense)             (None, 500)               250500    \n",
            "_________________________________________________________________\n",
            "dropout_13 (Dropout)         (None, 500)               0         \n",
            "_________________________________________________________________\n",
            "dense_13 (Dense)             (None, 500)               250500    \n",
            "_________________________________________________________________\n",
            "dropout_14 (Dropout)         (None, 500)               0         \n",
            "_________________________________________________________________\n",
            "dense_14 (Dense)             (None, 500)               250500    \n",
            "_________________________________________________________________\n",
            "dropout_15 (Dropout)         (None, 500)               0         \n",
            "_________________________________________________________________\n",
            "dense_15 (Dense)             (None, 500)               250500    \n",
            "_________________________________________________________________\n",
            "dropout_16 (Dropout)         (None, 500)               0         \n",
            "_________________________________________________________________\n",
            "dense_16 (Dense)             (None, 500)               250500    \n",
            "_________________________________________________________________\n",
            "dropout_17 (Dropout)         (None, 500)               0         \n",
            "_________________________________________________________________\n",
            "dense_17 (Dense)             (None, 500)               250500    \n",
            "_________________________________________________________________\n",
            "dropout_18 (Dropout)         (None, 500)               0         \n",
            "_________________________________________________________________\n",
            "dense_18 (Dense)             (None, 500)               250500    \n",
            "_________________________________________________________________\n",
            "dropout_19 (Dropout)         (None, 500)               0         \n",
            "_________________________________________________________________\n",
            "dense_19 (Dense)             (None, 500)               250500    \n",
            "_________________________________________________________________\n",
            "dropout_20 (Dropout)         (None, 500)               0         \n",
            "_________________________________________________________________\n",
            "dense_20 (Dense)             (None, 500)               250500    \n",
            "_________________________________________________________________\n",
            "dropout_21 (Dropout)         (None, 500)               0         \n",
            "_________________________________________________________________\n",
            "dense_21 (Dense)             (None, 10)                5010      \n",
            "=================================================================\n",
            "Total params: 3,244,590\n",
            "Trainable params: 3,244,590\n",
            "Non-trainable params: 0\n",
            "_________________________________________________________________\n"
          ],
          "name": "stdout"
        }
      ]
    },
    {
      "cell_type": "code",
      "metadata": {
        "id": "1ZaB4skQS1G2",
        "colab_type": "code",
        "colab": {}
      },
      "source": [
        "model.compile(loss='categorical_crossentropy',optimizer='rmsprop',metrics=['accuracy'])"
      ],
      "execution_count": 0,
      "outputs": []
    },
    {
      "cell_type": "code",
      "metadata": {
        "id": "UYX9SikDTygN",
        "colab_type": "code",
        "outputId": "7628d69c-7bce-4946-a7b6-025efae7a780",
        "colab": {
          "base_uri": "https://localhost:8080/",
          "height": 659
        }
      },
      "source": [
        "from keras.callbacks import ModelCheckpoint\n",
        "checkpointer=ModelCheckpoint(filepath='model_weights_best.hdf5',verbose=1,save_best_only=True)\n",
        "hist=model.fit(x_train,y_train,batch_size=419,epochs=9,validation_data=(x_valid,y_valid),callbacks=[checkpointer],verbose=2,shuffle=True)"
      ],
      "execution_count": 0,
      "outputs": [
        {
          "output_type": "stream",
          "text": [
            "Train on 54000 samples, validate on 6000 samples\n",
            "Epoch 1/9\n",
            " - 4s - loss: 0.2936 - acc: 0.9565 - val_loss: 0.1117 - val_acc: 0.9760\n",
            "\n",
            "Epoch 00001: val_loss improved from inf to 0.11170, saving model to model_weights_best.hdf5\n",
            "Epoch 2/9\n",
            " - 4s - loss: 0.2782 - acc: 0.9551 - val_loss: 0.0923 - val_acc: 0.9823\n",
            "\n",
            "Epoch 00002: val_loss improved from 0.11170 to 0.09232, saving model to model_weights_best.hdf5\n",
            "Epoch 3/9\n",
            " - 4s - loss: 0.3285 - acc: 0.9522 - val_loss: 0.1337 - val_acc: 0.9743\n",
            "\n",
            "Epoch 00003: val_loss did not improve from 0.09232\n",
            "Epoch 4/9\n",
            " - 4s - loss: 0.2871 - acc: 0.9545 - val_loss: 0.1111 - val_acc: 0.9808\n",
            "\n",
            "Epoch 00004: val_loss did not improve from 0.09232\n",
            "Epoch 5/9\n",
            " - 4s - loss: 0.4083 - acc: 0.9470 - val_loss: 0.1399 - val_acc: 0.9732\n",
            "\n",
            "Epoch 00005: val_loss did not improve from 0.09232\n",
            "Epoch 6/9\n",
            " - 4s - loss: 0.6685 - acc: 0.9075 - val_loss: 0.1379 - val_acc: 0.9727\n",
            "\n",
            "Epoch 00006: val_loss did not improve from 0.09232\n",
            "Epoch 7/9\n",
            " - 4s - loss: 0.9027 - acc: 0.9117 - val_loss: 0.2320 - val_acc: 0.9612\n",
            "\n",
            "Epoch 00007: val_loss did not improve from 0.09232\n",
            "Epoch 8/9\n",
            " - 4s - loss: 2.5967 - acc: 0.7783 - val_loss: 0.3493 - val_acc: 0.9597\n",
            "\n",
            "Epoch 00008: val_loss did not improve from 0.09232\n",
            "Epoch 9/9\n",
            " - 4s - loss: 1.1453 - acc: 0.8816 - val_loss: 0.3503 - val_acc: 0.9617\n",
            "\n",
            "Epoch 00009: val_loss did not improve from 0.09232\n"
          ],
          "name": "stdout"
        }
      ]
    },
    {
      "cell_type": "code",
      "metadata": {
        "id": "oAytWLX8VIKm",
        "colab_type": "code",
        "colab": {}
      },
      "source": [
        "model.load_weights('model_weights_best.hdf5')"
      ],
      "execution_count": 0,
      "outputs": []
    },
    {
      "cell_type": "code",
      "metadata": {
        "id": "oA5snmifqxhe",
        "colab_type": "code",
        "outputId": "1ceb03b3-739a-4be8-fb05-930ef9a36975",
        "colab": {
          "base_uri": "https://localhost:8080/",
          "height": 35
        }
      },
      "source": [
        "score=model.evaluate(x_test,y_test,verbose=0)\n",
        "score[1]"
      ],
      "execution_count": 0,
      "outputs": [
        {
          "output_type": "execute_result",
          "data": {
            "text/plain": [
              "0.9822"
            ]
          },
          "metadata": {
            "tags": []
          },
          "execution_count": 199
        }
      ]
    },
    {
      "cell_type": "code",
      "metadata": {
        "id": "1DQRMx32q7DA",
        "colab_type": "code",
        "outputId": "11e12a45-4bc6-4ad3-b3d2-44e192b28f72",
        "colab": {
          "base_uri": "https://localhost:8080/",
          "height": 35
        }
      },
      "source": [
        "predic=model.predict_classes(dff,verbose=0)\n",
        "predic"
      ],
      "execution_count": 0,
      "outputs": [
        {
          "output_type": "execute_result",
          "data": {
            "text/plain": [
              "array([2, 0, 9, ..., 3, 9, 2])"
            ]
          },
          "metadata": {
            "tags": []
          },
          "execution_count": 174
        }
      ]
    },
    {
      "cell_type": "code",
      "metadata": {
        "id": "LOOpT9QgrcsN",
        "colab_type": "code",
        "outputId": "a5ddb985-7e7a-4103-f778-a6e657697c14",
        "colab": {
          "base_uri": "https://localhost:8080/",
          "height": 35
        }
      },
      "source": [
        "predic.shape\n",
        "#99.27-3"
      ],
      "execution_count": 0,
      "outputs": [
        {
          "output_type": "execute_result",
          "data": {
            "text/plain": [
              "(28000,)"
            ]
          },
          "metadata": {
            "tags": []
          },
          "execution_count": 60
        }
      ]
    },
    {
      "cell_type": "code",
      "metadata": {
        "id": "QL8aNczMrcuS",
        "colab_type": "code",
        "colab": {}
      },
      "source": [
        "pd.DataFrame({'ImageId':list(range(1,len(predic)+1)),'Label':predic.astype(int)}).set_index('ImageId').to_csv('Kagg_digit_recog_cnn8.csv')"
      ],
      "execution_count": 0,
      "outputs": []
    },
    {
      "cell_type": "code",
      "metadata": {
        "id": "qO-YCTQbszwi",
        "colab_type": "code",
        "colab": {}
      },
      "source": [
        "from google.colab import files"
      ],
      "execution_count": 0,
      "outputs": []
    },
    {
      "cell_type": "code",
      "metadata": {
        "id": "n3gDueQ0rcxQ",
        "colab_type": "code",
        "outputId": "6821af2d-733c-42ff-8325-b2c7835fc6e6",
        "colab": {
          "base_uri": "https://localhost:8080/",
          "height": 139
        }
      },
      "source": [
        "!ls -a"
      ],
      "execution_count": 0,
      "outputs": [
        {
          "output_type": "stream",
          "text": [
            ".\t  Kagg_digit_recog_cnn3.csv  .keras\r\n",
            "..\t  Kagg_digit_recog_cnn4.csv  .local\r\n",
            ".cache\t  Kagg_digit_recog_cnn5.csv  model_weights_best.hdf5\r\n",
            ".config   Kagg_digit_recog_cnn6.csv  .nv\r\n",
            "datalab   Kagg_digit_recog_cnn7.csv  sample_submission.csv\r\n",
            ".forever  Kagg_digit_recog_cnn8.csv  test.csv\r\n",
            ".ipython  .kaggle\t\t     train.csv\r\n"
          ],
          "name": "stdout"
        }
      ]
    },
    {
      "cell_type": "code",
      "metadata": {
        "id": "7U-C02wBszzU",
        "colab_type": "code",
        "outputId": "acd9952d-b2c5-4863-dbb3-c49f167245fd",
        "colab": {
          "base_uri": "https://localhost:8080/",
          "height": 35
        }
      },
      "source": [
        "!kaggle competitions submit -c digit-recognizer -f Kagg_digit_recog_cnn7.csv -m'SUB_7'"
      ],
      "execution_count": 0,
      "outputs": [
        {
          "output_type": "stream",
          "text": [
            "Successfully submitted to Digit Recognizer"
          ],
          "name": "stdout"
        }
      ]
    },
    {
      "cell_type": "code",
      "metadata": {
        "id": "vlQqIazKttHi",
        "colab_type": "code",
        "colab": {}
      },
      "source": [
        "files.download('Kagg_digit_recog_cnn3.csv')"
      ],
      "execution_count": 0,
      "outputs": []
    },
    {
      "cell_type": "code",
      "metadata": {
        "id": "fdFMQgF7ttKW",
        "colab_type": "code",
        "colab": {}
      },
      "source": [
        ""
      ],
      "execution_count": 0,
      "outputs": []
    }
  ]
}